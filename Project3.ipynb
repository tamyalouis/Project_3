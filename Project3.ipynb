{
 "cells": [
  {
   "cell_type": "code",
   "execution_count": null,
   "id": "0de12ff8-f54d-4df2-ace9-c8d6ba41a57b",
   "metadata": {},
   "outputs": [],
   "source": [
    "import pandas as pd\n",
    "from sqlalchemy import create_engine\n",
    "from pymongo import MongoClient\n"
   ]
  },
  {
   "cell_type": "code",
   "execution_count": null,
   "id": "0b3585ce-a9a7-41be-b549-8b02f8ff3dd7",
   "metadata": {},
   "outputs": [],
   "source": [
    "import pandas as os\n",
    "\n",
    "file_path = \"https://raw.githubusercontent.com/tamyalouis/Project_3/main/cdphe_acs20172021_censustract_indicators_-3178988615017728164.csv\"\n",
    "\n",
    "try:\n",
    "    indicators_df = pd.read_csv(file_path)\n",
    "    print(\"File loaded successfully.\")\n",
    "    print(indicators_df.head())\n",
    "except Exception as e:\n",
    "    print(f\"An error occurred: {e}\")"
   ]
  },
  {
   "cell_type": "code",
   "execution_count": null,
   "id": "88b961ac-3646-4157-98ea-c26c1955a728",
   "metadata": {},
   "outputs": [],
   "source": [
    "import os\n",
    "\n",
    "file_path = \"https://raw.githubusercontent.com/tamyalouis/Project_3/main/CDPHE_Composite_Selected_Health_Outcome_Dataset_(Census_Tract).csv\"\n",
    "\n",
    "try:\n",
    "    health_outcomes_df = pd.read_csv(file_path)\n",
    "    print(\"File loaded successfully.\")\n",
    "    print(health_outcomes_df.head())\n",
    "except Exception as e:\n",
    "    print(f\"An error occurred: {e}\")"
   ]
  },
  {
   "cell_type": "code",
   "execution_count": null,
   "id": "42d5df74-bd66-4d82-a4a5-b58a59791a34",
   "metadata": {},
   "outputs": [],
   "source": [
    "import os\n",
    "\n",
    "file_path = \"https://raw.githubusercontent.com/tamyalouis/Project_3/main/CDPHE_Health_Facilities.csv\"\n",
    "\n",
    "try:\n",
    "    health_facilities_df = pd.read_csv(file_path)\n",
    "    print(\"File loaded successfully.\")\n",
    "    print(health_facilities_df.head())\n",
    "except Exception as e:\n",
    "    print(f\"An error occurred: {e}\")"
   ]
  },
  {
   "cell_type": "code",
   "execution_count": null,
   "id": "5a9c86ea-4fad-4f4e-8e99-c246bf98d89f",
   "metadata": {},
   "outputs": [],
   "source": [
    "# File paths (GitHub raw URLs)\n",
    "indicators_path = \"https://raw.githubusercontent.com/tamyalouis/Project_3/main/cdphe_acs20172021_censustract_indicators_-3178988615017728164.csv\"\n",
    "health_outcomes_path = \"https://raw.githubusercontent.com/tamyalouis/Project_3/main/CDPHE_Composite_Selected_Health_Outcome_Dataset_(Census_Tract).csv\"\n",
    "health_facilities_path = \"https://raw.githubusercontent.com/tamyalouis/Project_3/main/CDPHE_Health_Facilities.csv\"\n",
    "\n",
    "# Load datasets\n",
    "indicators_df = pd.read_csv(indicators_path)\n",
    "health_outcomes_df = pd.read_csv(health_outcomes_path)\n",
    "health_facilities_df = pd.read_csv(health_facilities_path)\n",
    "\n",
    "# Display the first few rows of each\n",
    "display(indicators_df.head(), health_outcomes_df.head(), health_facilities_df.head())\n"
   ]
  },
  {
   "cell_type": "code",
   "execution_count": null,
   "id": "d2dc0b76-7e0b-4fc4-bab1-228102d37dd0",
   "metadata": {},
   "outputs": [],
   "source": [
    "# Check basic info for each dataset\n",
    "print(\"Indicators Dataset:\")\n",
    "print(indicators_df.info())\n",
    "\n",
    "print(\"\\nHealth Outcomes Dataset:\")\n",
    "print(health_outcomes_df.info())\n",
    "\n",
    "print(\"\\nHealth Facilities Dataset:\")\n",
    "print(health_facilities_df.info())"
   ]
  },
  {
   "cell_type": "code",
   "execution_count": null,
   "id": "744cb215-4df8-4afb-824a-c516581f0df9",
   "metadata": {},
   "outputs": [],
   "source": [
    "# Standardize column names to lowercase\n",
    "indicators_df.columns = indicators_df.columns.str.lower()\n",
    "health_outcomes_df.columns = health_outcomes_df.columns.str.lower()\n",
    "health_facilities_df.columns = health_facilities_df.columns.str.lower()\n",
    "\n",
    "# Check for missing values\n",
    "print(indicators_df.isnull().sum())\n",
    "print(health_outcomes_df.isnull().sum())\n",
    "print(health_facilities_df.isnull().sum())\n"
   ]
  },
  {
   "cell_type": "code",
   "execution_count": null,
   "id": "aab4a32e-40e5-4881-a38d-729b180eac45",
   "metadata": {},
   "outputs": [],
   "source": [
    "# Display summary of each dataset\n",
    "print(indicators_df.head())\n",
    "print(health_outcomes_df.head())\n",
    "print(health_facilities_df.head())\n",
    "\n",
    "# Check column names and data types\n",
    "print(indicators_df.info())\n",
    "print(health_outcomes_df.info())\n",
    "print(health_facilities_df.info())"
   ]
  },
  {
   "cell_type": "code",
   "execution_count": null,
   "id": "464a10fc-08de-477d-95f9-7e1b3def9516",
   "metadata": {},
   "outputs": [],
   "source": [
    "indicators_df.columns = indicators_df.columns.str.lower()\n",
    "health_outcomes_df.columns = health_outcomes_df.columns.str.lower()\n",
    "health_facilities_df.columns = health_facilities_df.columns.str.lower()"
   ]
  },
  {
   "cell_type": "code",
   "execution_count": null,
   "id": "60934cb3-804e-466c-934a-b44e333800d8",
   "metadata": {},
   "outputs": [],
   "source": [
    "# Check for missing values\n",
    "print(indicators_df.isnull().sum())\n",
    "print(health_outcomes_df.isnull().sum())\n",
    "print(health_facilities_df.isnull().sum())"
   ]
  },
  {
   "cell_type": "code",
   "execution_count": null,
   "id": "e27e6045-33b8-4c9f-aa24-5a9fe0f82b13",
   "metadata": {
    "scrolled": true
   },
   "outputs": [],
   "source": [
    "print(\"Indicators DataFrame Columns:\", indicators_df.columns)\n",
    "print(\"Health Outcomes DataFrame Columns:\", health_outcomes_df.columns)\n",
    "print(\"Health Facilities DataFrame Columns:\", health_facilities_df.columns)"
   ]
  },
  {
   "cell_type": "code",
   "execution_count": null,
   "id": "28fe2624-6fb1-47d0-b56e-30ef3964f149",
   "metadata": {},
   "outputs": [],
   "source": [
    "indicators_df.columns = indicators_df.columns.str.lower()\n",
    "health_outcomes_df.columns = health_outcomes_df.columns.str.lower()\n",
    "health_facilities_df.columns = health_facilities_df.columns.str.lower()\n"
   ]
  },
  {
   "cell_type": "code",
   "execution_count": null,
   "id": "1cdcff01-f1b3-4543-bb93-741f4ffa35e5",
   "metadata": {},
   "outputs": [],
   "source": [
    "for df, name in zip([indicators_df, health_outcomes_df, health_facilities_df], \n",
    "                    [\"Indicators\", \"Health Outcomes\", \"Health Facilities\"]):\n",
    "    print(f\"{name} contains 'county':\", 'county' in df.columns)"
   ]
  },
  {
   "cell_type": "code",
   "execution_count": null,
   "id": "87e46571-d880-4099-9758-1a38e3b5de4f",
   "metadata": {},
   "outputs": [],
   "source": [
    "health_outcomes_df.rename(columns={\"county_name\": \"county\"}, inplace=True)"
   ]
  },
  {
   "cell_type": "code",
   "execution_count": null,
   "id": "7f68d341-659c-4970-bff5-d70c6b061001",
   "metadata": {},
   "outputs": [],
   "source": [
    "print(\"Indicators DataFrame shape:\", indicators_df.shape)\n",
    "print(\"Health Outcomes DataFrame shape:\", health_outcomes_df.shape)\n",
    "print(\"Health Facilities DataFrame shape:\", health_facilities_df.shape)"
   ]
  },
  {
   "cell_type": "code",
   "execution_count": null,
   "id": "d01df6ed-cfdd-4ea7-89a5-ddd0238a7abb",
   "metadata": {},
   "outputs": [],
   "source": [
    "print(\"Indicators DataFrame Columns:\", indicators_df.columns.tolist())\n",
    "print(\"Health Outcomes DataFrame Columns:\", health_outcomes_df.columns.tolist())\n"
   ]
  },
  {
   "cell_type": "code",
   "execution_count": null,
   "id": "099b036c-2613-477b-9384-21d308e819dd",
   "metadata": {},
   "outputs": [],
   "source": [
    "indicators_df = indicators_df[[\"county\", \"fips\", \"population_total\", \"population_density_persqmi\"]]\n",
    "health_outcomes_df = health_outcomes_df[[\"county\", \"diabetes_adjrate\", \"hd_adjrate\"]]\n",
    "health_facilities_df = health_facilities_df[[\"county\", \"latitude\", \"longitude\", \"facility_type\"]]"
   ]
  },
  {
   "cell_type": "code",
   "execution_count": null,
   "id": "e57e3d59-d4c1-49c4-ad5b-10923c0ce664",
   "metadata": {},
   "outputs": [],
   "source": [
    "merged_df = indicators_df.merge(health_outcomes_df, on=\"county\", how=\"left\")\n",
    "merged_df = merged_df.merge(health_facilities_df, on=\"county\", how=\"left\")\n",
    "\n",
    "# Verify the merged DataFrame\n",
    "print(\"Merged DataFrame created successfully.\")\n",
    "print(\"Number of rows in merged_df:\", len(merged_df))\n",
    "print(merged_df.head())"
   ]
  },
  {
   "cell_type": "code",
   "execution_count": null,
   "id": "7a2df6c2-af04-433d-abd0-0dcd0695cbf6",
   "metadata": {},
   "outputs": [],
   "source": [
    "# Check for missing values\n",
    "print(\"Missing values in merged_df:\")\n",
    "print(merged_df.isnull().sum())\n",
    "\n",
    "# Display DataFrame information\n",
    "print(\"\\nDataFrame Info:\")\n",
    "print(merged_df.info())"
   ]
  },
  {
   "cell_type": "code",
   "execution_count": null,
   "id": "e0c92f8f-104f-4f3f-aa9e-e417e9f1a097",
   "metadata": {},
   "outputs": [],
   "source": [
    "chunk_size = 1_000_000  # Process 1 million rows at a time\n",
    "chunks = [merged_df.iloc[i:i+chunk_size] for i in range(0, len(merged_df), chunk_size)]\n",
    "\n",
    "# Fill missing values for each chunk\n",
    "filled_chunks = [chunk.fillna(0) for chunk in chunks]\n",
    "\n",
    "# Combine the processed chunks back into a single DataFrame\n",
    "merged_df = pd.concat(filled_chunks)\n",
    "print(\"Missing values filled successfully.\")"
   ]
  },
  {
   "cell_type": "code",
   "execution_count": null,
   "id": "31a23154-15c8-4330-8c25-27942ea1da50",
   "metadata": {},
   "outputs": [],
   "source": [
    "merged_df[\"diabetes_hospitalization_rate_per_100k\"] = (\n",
    "    merged_df[\"diabetes_adjrate\"] / merged_df[\"population_total\"] * 100000\n",
    ")"
   ]
  },
  {
   "cell_type": "code",
   "execution_count": null,
   "id": "b03ff490-a0ab-49e2-aaeb-0edbabd274d5",
   "metadata": {},
   "outputs": [],
   "source": [
    "import pandas as pd\n",
    "\n",
    "# File paths\n",
    "indicators_path = \"https://raw.githubusercontent.com/tamyalouis/Project_3/main/cdphe_acs20172021_censustract_indicators_-3178988615017728164.csv\"\n",
    "health_outcomes_path = \"https://raw.githubusercontent.com/tamyalouis/Project_3/main/CDPHE_Composite_Selected_Health_Outcome_Dataset_(Census_Tract).csv\"\n",
    "health_facilities_path = \"https://raw.githubusercontent.com/tamyalouis/Project_3/main/CDPHE_Health_Facilities.csv\"\n",
    "\n",
    "# Load datasets\n",
    "indicators_df = pd.read_csv(indicators_path)\n",
    "health_outcomes_df = pd.read_csv(health_outcomes_path)\n",
    "health_facilities_df = pd.read_csv(health_facilities_path)\n",
    "\n",
    "print(\"Datasets loaded successfully.\")"
   ]
  },
  {
   "cell_type": "code",
   "execution_count": null,
   "id": "ba0e5d4f-9afc-4d90-b512-82ce1b9a7dbf",
   "metadata": {},
   "outputs": [],
   "source": [
    "print(indicators_df.head())\n",
    "print(health_outcomes_df.head())\n",
    "print(health_facilities_df.head())\n"
   ]
  },
  {
   "cell_type": "code",
   "execution_count": null,
   "id": "fb3d54f7-b84e-4412-8a64-f99d2b1d82e0",
   "metadata": {},
   "outputs": [],
   "source": [
    "indicators_df.columns = indicators_df.columns.str.lower()\n",
    "health_outcomes_df.columns = health_outcomes_df.columns.str.lower()\n",
    "health_facilities_df.columns = health_facilities_df.columns.str.lower()"
   ]
  },
  {
   "cell_type": "code",
   "execution_count": null,
   "id": "0d95debb-3988-499b-8a98-79915926053a",
   "metadata": {},
   "outputs": [],
   "source": [
    "# Select only relevant columns for each DataFrame\n",
    "indicators_df = indicators_df[[\"county\", \"fips\", \"population_total\", \"population_density_persqmi\"]]\n",
    "health_outcomes_df = health_outcomes_df[[\"county\", \"diabetes_adjrate\", \"hd_adjrate\"]]\n",
    "health_facilities_df = health_facilities_df[[\"county\", \"latitude\", \"longitude\", \"facility_type\"]]"
   ]
  },
  {
   "cell_type": "code",
   "execution_count": null,
   "id": "bfffb89b-f385-46a2-925f-465f1d79ba39",
   "metadata": {},
   "outputs": [],
   "source": [
    "# Check for missing values\n",
    "print(indicators_df.isnull().sum())\n",
    "print(health_outcomes_df.isnull().sum())\n",
    "print(health_facilities_df.isnull().sum())\n",
    "\n",
    "# Example: Fill missing values with a default value or remove rows\n",
    "indicators_df.fillna(0, inplace=True)\n",
    "health_outcomes_df.fillna(0, inplace=True)"
   ]
  },
  {
   "cell_type": "code",
   "execution_count": null,
   "id": "1c59eb73-2af6-42c1-921f-aff5b2eb5d98",
   "metadata": {},
   "outputs": [],
   "source": [
    "# Merge Indicators and Health Outcomes\n",
    "merged_df = indicators_df.merge(health_outcomes_df, on=\"county\", how=\"left\")\n",
    "\n",
    "# Merge with Health Facilities\n",
    "merged_df = merged_df.merge(health_facilities_df, on=\"county\", how=\"left\")\n",
    "\n",
    "print(merged_df.head())"
   ]
  },
  {
   "cell_type": "code",
   "execution_count": null,
   "id": "432ce2e5-2422-44fb-b475-2d40b30e2667",
   "metadata": {},
   "outputs": [],
   "source": [
    "merged_df[\"diabetes_rate_per_100k\"] = (\n",
    "    merged_df[\"diabetes_adjrate\"] / merged_df[\"population_total\"] * 100000\n",
    ")\n",
    "merged_df[\"heart_disease_rate_per_100k\"] = (\n",
    "    merged_df[\"hd_adjrate\"] / merged_df[\"population_total\"] * 100000\n",
    ")"
   ]
  },
  {
   "cell_type": "code",
   "execution_count": null,
   "id": "a7ba4f57-444a-4410-8b03-c235ebe664b1",
   "metadata": {},
   "outputs": [],
   "source": [
    "import matplotlib.pyplot as plt\n",
    "\n",
    "merged_df.groupby(\"county\")[[\"diabetes_rate_per_100k\", \"heart_disease_rate_per_100k\"]].mean().plot(\n",
    "    kind=\"bar\", figsize=(15, 5)\n",
    ")\n",
    "plt.title(\"Hospitalization Rates by County\")\n",
    "plt.ylabel(\"Rate per 100k\")\n",
    "plt.show()"
   ]
  },
  {
   "cell_type": "code",
   "execution_count": null,
   "id": "c2d8054f-fb53-4af9-aa46-c766f7d80cd5",
   "metadata": {},
   "outputs": [],
   "source": [
    "import folium\n",
    "\n",
    "map_center = [39.5501, -105.7821]  # Center map on Colorado\n",
    "m = folium.Map(location=map_center, zoom_start=7)\n",
    "\n",
    "# Add facilities as points on the map\n",
    "for _, row in health_facilities_df.iterrows():\n",
    "    folium.CircleMarker(\n",
    "        location=[row[\"latitude\"], row[\"longitude\"]],\n",
    "        radius=5,\n",
    "        color=\"blue\",\n",
    "        popup=row[\"facility_type\"]\n",
    "    ).add_to(m)\n",
    "\n",
    "m.save(\"health_facility_map.html\")\n"
   ]
  },
  {
   "cell_type": "code",
   "execution_count": null,
   "id": "18d07793-1412-4709-a58e-ec1aa1631130",
   "metadata": {},
   "outputs": [],
   "source": [
    "rom sqlalchemy import create_engine\n",
    "\n",
    "engine = create_engine(\"sqlite:///healthcare_analysis.db\")\n",
    "merged_df.to_sql(\"health_analysis\", con=engine, if_exists=\"replace\", index=False)"
   ]
  },
  {
   "cell_type": "code",
   "execution_count": null,
   "id": "1dba3327-6ba8-433d-b5c8-444b98643083",
   "metadata": {},
   "outputs": [],
   "source": [
    "from pymongo import MongoClient\n",
    "\n",
    "client = MongoClient(\"mongodb://localhost:27017/\")\n",
    "db = client[\"healthcare_analysis\"]\n",
    "db[\"health_analysis\"].insert_many(merged_df.to_dict(\"records\"))\n"
   ]
  },
  {
   "cell_type": "code",
   "execution_count": null,
   "id": "1c04a432-53c7-434f-a311-ef8bea564e17",
   "metadata": {},
   "outputs": [],
   "source": [
    "print(merged_df.describe())"
   ]
  },
  {
   "cell_type": "code",
   "execution_count": null,
   "id": "96d8e918-33c8-41d0-8adf-d0d0105d7e16",
   "metadata": {},
   "outputs": [],
   "source": [
    "for _, row in health_facilities_df.iterrows():\n",
    "    folium.Marker(\n",
    "        location=[row[\"latitude\"], row[\"longitude\"]],\n",
    "        popup=f\"Facility: {row['facility_type']}\",\n",
    "        icon=folium.Icon(color=\"blue\", icon=\"info-sign\")\n",
    "    ).add_to(m)"
   ]
  },
  {
   "cell_type": "code",
   "execution_count": null,
   "id": "2b41064e-4a71-4d4b-a6b5-532ff1a009fa",
   "metadata": {},
   "outputs": [],
   "source": [
    "from folium.plugins import HeatMap\n",
    "\n",
    "# Create heat data using health facilities data\n",
    "heat_data = [[row[\"latitude\"], row[\"longitude\"]] for _, row in health_facilities_df.iterrows()]\n",
    "\n",
    "# Add heat map to the map\n",
    "m = folium.Map(location=[39.5501, -105.7821], zoom_start=7)\n",
    "HeatMap(heat_data).add_to(m)\n",
    "\n",
    "# Save map to an HTML file\n",
    "m.save(\"heatmap.html\")\n",
    "print(\"Heat map created and saved as 'heatmap.html'.\")"
   ]
  },
  {
   "cell_type": "code",
   "execution_count": null,
   "id": "5ddbc18d-011f-468b-a93b-d9bc52e850f1",
   "metadata": {},
   "outputs": [],
   "source": [
    "print(health_facilities_df[[\"latitude\", \"longitude\"]].head())"
   ]
  },
  {
   "cell_type": "code",
   "execution_count": null,
   "id": "7a14ddf7-ccb0-4966-873a-dd82fc7ef3e4",
   "metadata": {},
   "outputs": [],
   "source": [
    "HeatMap(heat_data, radius=10, blur=15).add_to(m)"
   ]
  },
  {
   "cell_type": "code",
   "execution_count": null,
   "id": "121881d6-6b0c-404d-9d23-503f6db2349a",
   "metadata": {},
   "outputs": [],
   "source": [
    "# Add markers for health facilities\n",
    "for _, row in health_facilities_df.iterrows():\n",
    "    folium.Marker(\n",
    "        location=[row[\"latitude\"], row[\"longitude\"]],\n",
    "        popup=f\"Facility: {row['facility_type']}\",\n",
    "        icon=folium.Icon(color=\"blue\", icon=\"info-sign\")\n",
    "    ).add_to(m)\n",
    "\n",
    "# Add heat map\n",
    "HeatMap(heat_data).add_to(m)\n",
    "\n",
    "# Save the combined map\n",
    "m.save(\"combined_map.html\")"
   ]
  },
  {
   "cell_type": "code",
   "execution_count": null,
   "id": "9b951c36-f627-4b88-ae88-61346557b365",
   "metadata": {},
   "outputs": [],
   "source": [
    "from sqlalchemy import create_engine\n",
    "import pandas as pd\n",
    "\n",
    "# Connect to SQLite database\n",
    "engine = create_engine(\"sqlite:///healthcare_analysis.db\")\n",
    "\n",
    "# List all tables in the database\n",
    "query = \"SELECT name FROM sqlite_master WHERE type='table';\"\n",
    "tables = pd.read_sql(query, con=engine)\n",
    "\n",
    "print(\"Tables in the SQLite database:\")\n",
    "print(tables)"
   ]
  },
  {
   "cell_type": "code",
   "execution_count": null,
   "id": "2d50c3cd-1f16-4117-930a-8cf70e17a0d7",
   "metadata": {},
   "outputs": [],
   "source": [
    "# Query the first 5 rows of the table\n",
    "query = \"SELECT * FROM health_data LIMIT 5;\"\n",
    "sample_data = pd.read_sql(query, con=engine)\n",
    "\n",
    "print(\"Sample data from the health_data table:\")\n",
    "print(sample_data)"
   ]
  },
  {
   "cell_type": "code",
   "execution_count": null,
   "id": "dbaa5c28-21a2-40fa-b64c-830f24ccd7d5",
   "metadata": {},
   "outputs": [],
   "source": [
    "query = \"SELECT COUNT(*) as row_count FROM health_data;\"\n",
    "row_count = pd.read_sql(query, con=engine)\n",
    "\n",
    "print(\"Total number of rows in the health_data table:\", row_count.iloc[0][\"row_count\"])\n"
   ]
  },
  {
   "cell_type": "code",
   "execution_count": null,
   "id": "5453d0a8-e735-4a8a-a25e-cc3165506c45",
   "metadata": {},
   "outputs": [],
   "source": [
    "# Reload data from GitHub\n",
    "indicators_path = \"https://raw.githubusercontent.com/tamyalouis/Project_3/main/cdphe_acs20172021_censustract_indicators_-3178988615017728164.csv\"\n",
    "health_outcomes_path = \"https://raw.githubusercontent.com/tamyalouis/Project_3/main/CDPHE_Composite_Selected_Health_Outcome_Dataset_(Census_Tract).csv\"\n",
    "health_facilities_path = \"https://raw.githubusercontent.com/tamyalouis/Project_3/main/CDPHE_Health_Facilities.csv\"\n",
    "\n",
    "# Load the datasets\n",
    "indicators_df = pd.read_csv(indicators_path)\n",
    "health_outcomes_df = pd.read_csv(health_outcomes_path)\n",
    "health_facilities_df = pd.read_csv(health_facilities_path)\n",
    "\n",
    "print(\"Datasets loaded successfully.\")"
   ]
  },
  {
   "cell_type": "code",
   "execution_count": null,
   "id": "af7f9469-807c-4b38-897b-fc1f5ad7bbde",
   "metadata": {},
   "outputs": [],
   "source": [
    "indicators_df.columns = indicators_df.columns.str.lower()\n",
    "health_outcomes_df.columns = health_outcomes_df.columns.str.lower()\n",
    "health_facilities_df.columns = health_facilities_df.columns.str.lower()\n"
   ]
  },
  {
   "cell_type": "code",
   "execution_count": null,
   "id": "e036d165-d37d-4eaa-b626-8825d4c7c993",
   "metadata": {},
   "outputs": [],
   "source": [
    "print(\"Indicators DataFrame columns:\", indicators_df.columns.tolist())\n",
    "print(\"Health Outcomes DataFrame columns:\", health_outcomes_df.columns.tolist())\n",
    "print(\"Health Facilities DataFrame columns:\", health_facilities_df.columns.tolist())\n"
   ]
  },
  {
   "cell_type": "code",
   "execution_count": null,
   "id": "afafbced-14e2-4ebb-aa2e-c3db941b0cf9",
   "metadata": {},
   "outputs": [],
   "source": [
    "# Search for columns containing 'county'\n",
    "print([col for col in indicators_df.columns if 'county' in col.lower()])\n",
    "print([col for col in health_outcomes_df.columns if 'county' in col.lower()])\n",
    "print([col for col in health_facilities_df.columns if 'county' in col.lower()])"
   ]
  },
  {
   "cell_type": "code",
   "execution_count": null,
   "id": "986ebb66-3c2e-40db-a3be-da213ada0d3e",
   "metadata": {},
   "outputs": [],
   "source": [
    "# Example renaming\n",
    "indicators_df.rename(columns={\"county_name\": \"county\"}, inplace=True)\n",
    "health_outcomes_df.rename(columns={\"county_name\": \"county\"}, inplace=True)\n",
    "health_facilities_df.rename(columns={\"county_name\": \"county\"}, inplace=True)\n"
   ]
  },
  {
   "cell_type": "code",
   "execution_count": null,
   "id": "0e4a65f5-3d85-4912-8331-cdc0ea4791a1",
   "metadata": {},
   "outputs": [],
   "source": [
    "indicators_df = indicators_df[[\"county\", \"fips\", \"population_total\", \"population_density_persqmi\"]]\n",
    "health_outcomes_df = health_outcomes_df[[\"county\", \"diabetes_adjrate\", \"hd_adjrate\"]]\n",
    "health_facilities_df = health_facilities_df[[\"county\", \"latitude\", \"longitude\", \"facility_type\"]]"
   ]
  },
  {
   "cell_type": "code",
   "execution_count": null,
   "id": "40f75078-5f86-4dec-bcb9-93eac8a24890",
   "metadata": {},
   "outputs": [],
   "source": [
    "merged_df = indicators_df.merge(health_outcomes_df, on=\"county\", how=\"left\")\n",
    "merged_df = merged_df.merge(health_facilities_df, on=\"county\", how=\"left\")\n",
    "\n",
    "print(\"Merged DataFrame created successfully.\")\n",
    "print(merged_df.head())\n",
    "print(\"Number of rows in merged_df:\", len(merged_df))"
   ]
  }
 ],
 "metadata": {
  "kernelspec": {
   "display_name": "Python 3 (ipykernel)",
   "language": "python",
   "name": "python3"
  },
  "language_info": {
   "codemirror_mode": {
    "name": "ipython",
    "version": 3
   },
   "file_extension": ".py",
   "mimetype": "text/x-python",
   "name": "python",
   "nbconvert_exporter": "python",
   "pygments_lexer": "ipython3",
   "version": "3.12.3"
  }
 },
 "nbformat": 4,
 "nbformat_minor": 5
}
