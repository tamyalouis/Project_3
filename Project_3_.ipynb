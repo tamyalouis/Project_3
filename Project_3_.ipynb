{
 "cells": [
  {
   "cell_type": "code",
   "execution_count": 147,
   "id": "3b4699f8-4273-47f0-ae9a-e6d32b3632bf",
   "metadata": {},
   "outputs": [],
   "source": [
    "import pandas as pd\n",
    "from sqlalchemy import create_engine\n",
    "from pymongo import MongoClient"
   ]
  },
  {
   "cell_type": "code",
   "execution_count": 148,
   "id": "46174ff1-f144-4be5-97b9-227a6c083da3",
   "metadata": {},
   "outputs": [
    {
     "name": "stdout",
     "output_type": "stream",
     "text": [
      "File loaded successfully.\n",
      "   OBJECTID_1        FIPS        Full_FIPS_Code  \\\n",
      "0           1  8023972600  1400000US08023972600   \n",
      "1           2  8029964600  1400000US08029964600   \n",
      "2           3  8053973100  1400000US08053973100   \n",
      "3           4  8069001602  1400000US08069001602   \n",
      "4           5  8069000600  1400000US08069000600   \n",
      "\n",
      "                                     Tract_Name  Tract_FIPS State    County  \\\n",
      "0  Census Tract 9726, Costilla County, Colorado  8023972600    CO  COSTILLA   \n",
      "1     Census Tract 9646, Delta County, Colorado  8029964600    CO     DELTA   \n",
      "2  Census Tract 9731, Hinsdale County, Colorado  8053973100    CO  HINSDALE   \n",
      "3  Census Tract 16.02, Larimer County, Colorado  8069001602    CO   LARIMER   \n",
      "4      Census Tract 6, Larimer County, Colorado  8069000600    CO   LARIMER   \n",
      "\n",
      "   Percent_THU_Occupied_Family_Male_NoPartner  \\\n",
      "0                                         2.5   \n",
      "1                                         0.5   \n",
      "2                                         0.0   \n",
      "3                                         1.1   \n",
      "4                                         0.0   \n",
      "\n",
      "   Housing_THU_Occupied_Family_Female_NoPartner  \\\n",
      "0                                            84   \n",
      "1                                            63   \n",
      "2                                            40   \n",
      "3                                           112   \n",
      "4                                             0   \n",
      "\n",
      "   Percent_THU_Occupied_Family_Female_NoPartner  ...  \\\n",
      "0                                          10.9  ...   \n",
      "1                                           3.6  ...   \n",
      "2                                           9.0  ...   \n",
      "3                                           5.2  ...   \n",
      "4                                           0.0  ...   \n",
      "\n",
      "   Percent_OHU_Built_1940_1949  Percent_OHU_Built_1939_Earlier  \\\n",
      "0                          1.7                            11.0   \n",
      "1                          3.7                            23.6   \n",
      "2                          1.3                            12.4   \n",
      "3                          0.0                             0.0   \n",
      "4                          0.0                             1.0   \n",
      "\n",
      "   Housing_Poverty_Median_Household_Income  \\\n",
      "0                                    43190   \n",
      "1                                    66738   \n",
      "2                                    45714   \n",
      "3                                    95962   \n",
      "4                                    22163   \n",
      "\n",
      "   Housing_Poverty_Mean_Household_Income  Area_Land_Square_Miles  \\\n",
      "0                                  51915              600.270189   \n",
      "1                                  79550              257.527079   \n",
      "2                                  72248             1117.230335   \n",
      "3                                 112801                1.173036   \n",
      "4                                  25420                0.760141   \n",
      "\n",
      "   Area_Water_Square_Miles  Population_Density_PerSqMi  Shape__Area  \\\n",
      "0                 1.454154                    3.151914     0.158671   \n",
      "1                 0.449223                   14.417901     0.069457   \n",
      "2                 5.916892                    0.767971     0.297771   \n",
      "3                 0.003898                 4713.411169     0.000322   \n",
      "4                 0.000000                 9495.606546     0.000209   \n",
      "\n",
      "   Shape__Length                              GlobalID  \n",
      "0       1.998095  eb930f7c-3ea7-4e83-9b6c-7bb56a27242a  \n",
      "1       1.489627  87012fdb-7ccb-4db3-8d94-253d5ddd1247  \n",
      "2       2.824511  ac4c1eb3-3907-49be-af38-c087d9eb1824  \n",
      "3       0.071983  75d13d59-05fc-407e-9e66-f3e365a6b947  \n",
      "4       0.060119  9d53a264-c85b-4ffa-8f76-b92ee8cbdcf0  \n",
      "\n",
      "[5 rows x 230 columns]\n"
     ]
    }
   ],
   "source": [
    "import os\n",
    "\n",
    "file_path = \"https://raw.githubusercontent.com/tamyalouis/Project_3/main/cdphe_acs20172021_censustract_indicators_-3178988615017728164.csv\"\n",
    "\n",
    "try:\n",
    "    indicators_df = pd.read_csv(file_path)\n",
    "    print(\"File loaded successfully.\")\n",
    "    print(indicators_df.head())\n",
    "except Exception as e:\n",
    "    print(f\"An error occurred: {e}\")\n"
   ]
  },
  {
   "cell_type": "code",
   "execution_count": 149,
   "id": "21a1d764-11fc-45f7-bb03-15b8cc482add",
   "metadata": {},
   "outputs": [
    {
     "name": "stdout",
     "output_type": "stream",
     "text": [
      "File loaded successfully.\n",
      "   OBJECTID  TRACT_FIPS  ASTHMA_ADJRATE  ASTHMA_L95CI  ASTHMA_U95CI  \\\n",
      "0         1  8043979000          478.25        344.32        612.18   \n",
      "1         2  8045951600          273.05        198.85        347.26   \n",
      "2         3  8069002803            0.00          0.00          0.00   \n",
      "3         4  8125963200          353.93        284.52        423.33   \n",
      "4         5  8069002401          542.50        244.83        840.18   \n",
      "\n",
      "   ASTHMA_STATEADJRATE  ASTHMA_SL95CI  ASTHMA_SU95CI  \\\n",
      "0               619.91            617         622.82   \n",
      "1               619.91            617         622.82   \n",
      "2               619.91            617         622.82   \n",
      "3               619.91            617         622.82   \n",
      "4               619.91            617         622.82   \n",
      "\n",
      "                                     TRACT_NAME COUNTY_NAME  ...  \\\n",
      "0   Census Tract 9790, Fremont County, Colorado     FREMONT  ...   \n",
      "1  Census Tract 9516, Garfield County, Colorado    GARFIELD  ...   \n",
      "2  Census Tract 28.03, Larimer County, Colorado     LARIMER  ...   \n",
      "3      Census Tract 9632, Yuma County, Colorado        YUMA  ...   \n",
      "4  Census Tract 24.01, Larimer County, Colorado     LARIMER  ...   \n",
      "\n",
      "  INFLUENZA_SL95CI  INFLUENZA_SU95CI                 INFLUENZA_DISPLAY  \\\n",
      "0               54             55.75  Not Different Than State Average   \n",
      "1               54             55.75  Not Different Than State Average   \n",
      "2               54             55.75      No Events or Data Suppressed   \n",
      "3               54             55.75         Higher Than State Average   \n",
      "4               54             55.75  Not Different Than State Average   \n",
      "\n",
      "   POD_DEATH_ADJRATE  POD_DEATH_L95CI  POD_DEATH_U95CI  \\\n",
      "0                NaN              NaN              NaN   \n",
      "1                0.0              0.0              0.0   \n",
      "2                0.0              0.0              0.0   \n",
      "3                0.0              0.0              0.0   \n",
      "4                0.0              0.0              0.0   \n",
      "\n",
      "   POD_DEATH_STATEADJRATE POD_DEATH_STATEL95CI  POD_DEATH_STATEU95CI  \\\n",
      "0                    9.25                 8.89                   9.6   \n",
      "1                    9.25                 8.89                   9.6   \n",
      "2                    9.25                 8.89                   9.6   \n",
      "3                    9.25                 8.89                   9.6   \n",
      "4                    9.25                 8.89                   9.6   \n",
      "\n",
      "                    POD_DISPLAY  \n",
      "0  No Events or Data Suppressed  \n",
      "1  No Events or Data Suppressed  \n",
      "2  No Events or Data Suppressed  \n",
      "3  No Events or Data Suppressed  \n",
      "4  No Events or Data Suppressed  \n",
      "\n",
      "[5 rows x 67 columns]\n"
     ]
    }
   ],
   "source": [
    "import os\n",
    "\n",
    "file_path = \"https://raw.githubusercontent.com/tamyalouis/Project_3/main/CDPHE_Composite_Selected_Health_Outcome_Dataset_(Census_Tract).csv\"\n",
    "\n",
    "try:\n",
    "    health_outcomes_df = pd.read_csv(file_path)\n",
    "    print(\"File loaded successfully.\")\n",
    "    print(health_outcomes_df.head())\n",
    "except Exception as e:\n",
    "    print(f\"An error occurred: {e}\")"
   ]
  },
  {
   "cell_type": "code",
   "execution_count": 150,
   "id": "d81dce6b-b11a-48db-b3c5-4cc3d19abb0a",
   "metadata": {},
   "outputs": [
    {
     "name": "stdout",
     "output_type": "stream",
     "text": [
      "File loaded successfully.\n",
      "            X          Y  OBJECTID Facility_ID  \\\n",
      "0 -104.868362  39.656151         1      04K461   \n",
      "1 -104.868362  39.656151         2      10C962   \n",
      "2 -104.896904  39.628658         3      04I8ZR   \n",
      "3 -104.896904  39.628658         4      04YPBY   \n",
      "4 -104.896904  39.628658         5      0431O0   \n",
      "\n",
      "                      Facility_Name Facility_Type_Code       Facility_Type  \\\n",
      "0  # 1 HOME CARE AGENCY CORPORATION                05E  All Other Factypes   \n",
      "1  # 1 HOME CARE AGENCY CORPORATION                05D    Home Care Agency   \n",
      "2                 #1 NOOR HOME CARE                05E  All Other Factypes   \n",
      "3                 #1 NOOR HOME CARE                05D    Home Care Agency   \n",
      "4                 #1 NOOR HOME CARE                05A  Home Health Agency   \n",
      "\n",
      "    Map_Symbol                               Facility_Type_Detail  \\\n",
      "0  Home Health  Home Care Agency-In Home Support Services (Med...   \n",
      "1  Home Health  Home Care Agency-Personal Care/Homemaker (Medi...   \n",
      "2  Home Health  Home Care Agency-In Home Support Services (Med...   \n",
      "3  Home Health  Home Care Agency-Personal Care/Homemaker (Medi...   \n",
      "4  Home Health                 Home Health Agency (Cert Eligible)   \n",
      "\n",
      "  Facility_Type_Abbreviation  Licensed_Beds_Total     Telephone  County  \\\n",
      "0                   HCA-IHSS                    0  303-306-0404  DENVER   \n",
      "1                    HCA-PHS                    0  303-306-0404  DENVER   \n",
      "2                   HCA-IHSS                    0           NaN  DENVER   \n",
      "3                    HCA-PHS                    0  720-324-3242  DENVER   \n",
      "4                    HHA-LCE                    0  720-324-3242  DENVER   \n",
      "\n",
      "                                        Address_Full   Latitude   Longitude  \\\n",
      "0  10200 E GIRARD AVE BLDG A  STE 103, DENVER, CO...  39.656151 -104.868362   \n",
      "1  10200 E GIRARD AVE  BLDG A STE 103, DENVER, CO...  39.656151 -104.868362   \n",
      "2        7900 E UNION AVE STE 1100, DENVER, CO 80237  39.628658 -104.896904   \n",
      "3        7900 E UNION AVE STE 1100, DENVER, CO 80234  39.628658 -104.896904   \n",
      "4        7900 E UNION AVE STE 1100, DENVER, CO 80237  39.628658 -104.896904   \n",
      "\n",
      "  CDPHE_HFEMS_Licensed Operating_Status       Date_Data_Updated  \\\n",
      "0                  yes           ACTIVE  2024/12/04 07:00:00+00   \n",
      "1                  yes           ACTIVE  2024/12/04 07:00:00+00   \n",
      "2                  yes           ACTIVE  2024/12/04 07:00:00+00   \n",
      "3                  yes           ACTIVE  2024/12/04 07:00:00+00   \n",
      "4                  yes           ACTIVE  2024/12/04 07:00:00+00   \n",
      "\n",
      "                                              Source  \n",
      "0  CDPHE Health Facilities and Emergency Medical ...  \n",
      "1  CDPHE Health Facilities and Emergency Medical ...  \n",
      "2  CDPHE Health Facilities and Emergency Medical ...  \n",
      "3  CDPHE Health Facilities and Emergency Medical ...  \n",
      "4  CDPHE Health Facilities and Emergency Medical ...  \n"
     ]
    }
   ],
   "source": [
    "file_path = \"https://raw.githubusercontent.com/tamyalouis/Project_3/main/CDPHE_Health_Facilities.csv\"\n",
    "\n",
    "try:\n",
    "    health_facilities_df = pd.read_csv(file_path)\n",
    "    print(\"File loaded successfully.\")\n",
    "    print(health_facilities_df.head())\n",
    "except Exception as e:\n",
    "    print(f\"An error occurred: {e}\")"
   ]
  },
  {
   "cell_type": "code",
   "execution_count": 151,
   "id": "c44e566b-6ad0-4a2f-9307-9596f7f6c5b0",
   "metadata": {},
   "outputs": [
    {
     "data": {
      "text/html": [
       "<div>\n",
       "<style scoped>\n",
       "    .dataframe tbody tr th:only-of-type {\n",
       "        vertical-align: middle;\n",
       "    }\n",
       "\n",
       "    .dataframe tbody tr th {\n",
       "        vertical-align: top;\n",
       "    }\n",
       "\n",
       "    .dataframe thead th {\n",
       "        text-align: right;\n",
       "    }\n",
       "</style>\n",
       "<table border=\"1\" class=\"dataframe\">\n",
       "  <thead>\n",
       "    <tr style=\"text-align: right;\">\n",
       "      <th></th>\n",
       "      <th>OBJECTID_1</th>\n",
       "      <th>FIPS</th>\n",
       "      <th>Full_FIPS_Code</th>\n",
       "      <th>Tract_Name</th>\n",
       "      <th>Tract_FIPS</th>\n",
       "      <th>State</th>\n",
       "      <th>County</th>\n",
       "      <th>Percent_THU_Occupied_Family_Male_NoPartner</th>\n",
       "      <th>Housing_THU_Occupied_Family_Female_NoPartner</th>\n",
       "      <th>Percent_THU_Occupied_Family_Female_NoPartner</th>\n",
       "      <th>...</th>\n",
       "      <th>Percent_OHU_Built_1940_1949</th>\n",
       "      <th>Percent_OHU_Built_1939_Earlier</th>\n",
       "      <th>Housing_Poverty_Median_Household_Income</th>\n",
       "      <th>Housing_Poverty_Mean_Household_Income</th>\n",
       "      <th>Area_Land_Square_Miles</th>\n",
       "      <th>Area_Water_Square_Miles</th>\n",
       "      <th>Population_Density_PerSqMi</th>\n",
       "      <th>Shape__Area</th>\n",
       "      <th>Shape__Length</th>\n",
       "      <th>GlobalID</th>\n",
       "    </tr>\n",
       "  </thead>\n",
       "  <tbody>\n",
       "    <tr>\n",
       "      <th>0</th>\n",
       "      <td>1</td>\n",
       "      <td>8023972600</td>\n",
       "      <td>1400000US08023972600</td>\n",
       "      <td>Census Tract 9726, Costilla County, Colorado</td>\n",
       "      <td>8023972600</td>\n",
       "      <td>CO</td>\n",
       "      <td>COSTILLA</td>\n",
       "      <td>2.5</td>\n",
       "      <td>84</td>\n",
       "      <td>10.9</td>\n",
       "      <td>...</td>\n",
       "      <td>1.7</td>\n",
       "      <td>11.0</td>\n",
       "      <td>43190</td>\n",
       "      <td>51915</td>\n",
       "      <td>600.270189</td>\n",
       "      <td>1.454154</td>\n",
       "      <td>3.151914</td>\n",
       "      <td>0.158671</td>\n",
       "      <td>1.998095</td>\n",
       "      <td>eb930f7c-3ea7-4e83-9b6c-7bb56a27242a</td>\n",
       "    </tr>\n",
       "    <tr>\n",
       "      <th>1</th>\n",
       "      <td>2</td>\n",
       "      <td>8029964600</td>\n",
       "      <td>1400000US08029964600</td>\n",
       "      <td>Census Tract 9646, Delta County, Colorado</td>\n",
       "      <td>8029964600</td>\n",
       "      <td>CO</td>\n",
       "      <td>DELTA</td>\n",
       "      <td>0.5</td>\n",
       "      <td>63</td>\n",
       "      <td>3.6</td>\n",
       "      <td>...</td>\n",
       "      <td>3.7</td>\n",
       "      <td>23.6</td>\n",
       "      <td>66738</td>\n",
       "      <td>79550</td>\n",
       "      <td>257.527079</td>\n",
       "      <td>0.449223</td>\n",
       "      <td>14.417901</td>\n",
       "      <td>0.069457</td>\n",
       "      <td>1.489627</td>\n",
       "      <td>87012fdb-7ccb-4db3-8d94-253d5ddd1247</td>\n",
       "    </tr>\n",
       "    <tr>\n",
       "      <th>2</th>\n",
       "      <td>3</td>\n",
       "      <td>8053973100</td>\n",
       "      <td>1400000US08053973100</td>\n",
       "      <td>Census Tract 9731, Hinsdale County, Colorado</td>\n",
       "      <td>8053973100</td>\n",
       "      <td>CO</td>\n",
       "      <td>HINSDALE</td>\n",
       "      <td>0.0</td>\n",
       "      <td>40</td>\n",
       "      <td>9.0</td>\n",
       "      <td>...</td>\n",
       "      <td>1.3</td>\n",
       "      <td>12.4</td>\n",
       "      <td>45714</td>\n",
       "      <td>72248</td>\n",
       "      <td>1117.230335</td>\n",
       "      <td>5.916892</td>\n",
       "      <td>0.767971</td>\n",
       "      <td>0.297771</td>\n",
       "      <td>2.824511</td>\n",
       "      <td>ac4c1eb3-3907-49be-af38-c087d9eb1824</td>\n",
       "    </tr>\n",
       "    <tr>\n",
       "      <th>3</th>\n",
       "      <td>4</td>\n",
       "      <td>8069001602</td>\n",
       "      <td>1400000US08069001602</td>\n",
       "      <td>Census Tract 16.02, Larimer County, Colorado</td>\n",
       "      <td>8069001602</td>\n",
       "      <td>CO</td>\n",
       "      <td>LARIMER</td>\n",
       "      <td>1.1</td>\n",
       "      <td>112</td>\n",
       "      <td>5.2</td>\n",
       "      <td>...</td>\n",
       "      <td>0.0</td>\n",
       "      <td>0.0</td>\n",
       "      <td>95962</td>\n",
       "      <td>112801</td>\n",
       "      <td>1.173036</td>\n",
       "      <td>0.003898</td>\n",
       "      <td>4713.411169</td>\n",
       "      <td>0.000322</td>\n",
       "      <td>0.071983</td>\n",
       "      <td>75d13d59-05fc-407e-9e66-f3e365a6b947</td>\n",
       "    </tr>\n",
       "    <tr>\n",
       "      <th>4</th>\n",
       "      <td>5</td>\n",
       "      <td>8069000600</td>\n",
       "      <td>1400000US08069000600</td>\n",
       "      <td>Census Tract 6, Larimer County, Colorado</td>\n",
       "      <td>8069000600</td>\n",
       "      <td>CO</td>\n",
       "      <td>LARIMER</td>\n",
       "      <td>0.0</td>\n",
       "      <td>0</td>\n",
       "      <td>0.0</td>\n",
       "      <td>...</td>\n",
       "      <td>0.0</td>\n",
       "      <td>1.0</td>\n",
       "      <td>22163</td>\n",
       "      <td>25420</td>\n",
       "      <td>0.760141</td>\n",
       "      <td>0.000000</td>\n",
       "      <td>9495.606546</td>\n",
       "      <td>0.000209</td>\n",
       "      <td>0.060119</td>\n",
       "      <td>9d53a264-c85b-4ffa-8f76-b92ee8cbdcf0</td>\n",
       "    </tr>\n",
       "  </tbody>\n",
       "</table>\n",
       "<p>5 rows × 230 columns</p>\n",
       "</div>"
      ],
      "text/plain": [
       "   OBJECTID_1        FIPS        Full_FIPS_Code  \\\n",
       "0           1  8023972600  1400000US08023972600   \n",
       "1           2  8029964600  1400000US08029964600   \n",
       "2           3  8053973100  1400000US08053973100   \n",
       "3           4  8069001602  1400000US08069001602   \n",
       "4           5  8069000600  1400000US08069000600   \n",
       "\n",
       "                                     Tract_Name  Tract_FIPS State    County  \\\n",
       "0  Census Tract 9726, Costilla County, Colorado  8023972600    CO  COSTILLA   \n",
       "1     Census Tract 9646, Delta County, Colorado  8029964600    CO     DELTA   \n",
       "2  Census Tract 9731, Hinsdale County, Colorado  8053973100    CO  HINSDALE   \n",
       "3  Census Tract 16.02, Larimer County, Colorado  8069001602    CO   LARIMER   \n",
       "4      Census Tract 6, Larimer County, Colorado  8069000600    CO   LARIMER   \n",
       "\n",
       "   Percent_THU_Occupied_Family_Male_NoPartner  \\\n",
       "0                                         2.5   \n",
       "1                                         0.5   \n",
       "2                                         0.0   \n",
       "3                                         1.1   \n",
       "4                                         0.0   \n",
       "\n",
       "   Housing_THU_Occupied_Family_Female_NoPartner  \\\n",
       "0                                            84   \n",
       "1                                            63   \n",
       "2                                            40   \n",
       "3                                           112   \n",
       "4                                             0   \n",
       "\n",
       "   Percent_THU_Occupied_Family_Female_NoPartner  ...  \\\n",
       "0                                          10.9  ...   \n",
       "1                                           3.6  ...   \n",
       "2                                           9.0  ...   \n",
       "3                                           5.2  ...   \n",
       "4                                           0.0  ...   \n",
       "\n",
       "   Percent_OHU_Built_1940_1949  Percent_OHU_Built_1939_Earlier  \\\n",
       "0                          1.7                            11.0   \n",
       "1                          3.7                            23.6   \n",
       "2                          1.3                            12.4   \n",
       "3                          0.0                             0.0   \n",
       "4                          0.0                             1.0   \n",
       "\n",
       "   Housing_Poverty_Median_Household_Income  \\\n",
       "0                                    43190   \n",
       "1                                    66738   \n",
       "2                                    45714   \n",
       "3                                    95962   \n",
       "4                                    22163   \n",
       "\n",
       "   Housing_Poverty_Mean_Household_Income  Area_Land_Square_Miles  \\\n",
       "0                                  51915              600.270189   \n",
       "1                                  79550              257.527079   \n",
       "2                                  72248             1117.230335   \n",
       "3                                 112801                1.173036   \n",
       "4                                  25420                0.760141   \n",
       "\n",
       "   Area_Water_Square_Miles  Population_Density_PerSqMi  Shape__Area  \\\n",
       "0                 1.454154                    3.151914     0.158671   \n",
       "1                 0.449223                   14.417901     0.069457   \n",
       "2                 5.916892                    0.767971     0.297771   \n",
       "3                 0.003898                 4713.411169     0.000322   \n",
       "4                 0.000000                 9495.606546     0.000209   \n",
       "\n",
       "   Shape__Length                              GlobalID  \n",
       "0       1.998095  eb930f7c-3ea7-4e83-9b6c-7bb56a27242a  \n",
       "1       1.489627  87012fdb-7ccb-4db3-8d94-253d5ddd1247  \n",
       "2       2.824511  ac4c1eb3-3907-49be-af38-c087d9eb1824  \n",
       "3       0.071983  75d13d59-05fc-407e-9e66-f3e365a6b947  \n",
       "4       0.060119  9d53a264-c85b-4ffa-8f76-b92ee8cbdcf0  \n",
       "\n",
       "[5 rows x 230 columns]"
      ]
     },
     "metadata": {},
     "output_type": "display_data"
    },
    {
     "data": {
      "text/html": [
       "<div>\n",
       "<style scoped>\n",
       "    .dataframe tbody tr th:only-of-type {\n",
       "        vertical-align: middle;\n",
       "    }\n",
       "\n",
       "    .dataframe tbody tr th {\n",
       "        vertical-align: top;\n",
       "    }\n",
       "\n",
       "    .dataframe thead th {\n",
       "        text-align: right;\n",
       "    }\n",
       "</style>\n",
       "<table border=\"1\" class=\"dataframe\">\n",
       "  <thead>\n",
       "    <tr style=\"text-align: right;\">\n",
       "      <th></th>\n",
       "      <th>OBJECTID</th>\n",
       "      <th>TRACT_FIPS</th>\n",
       "      <th>ASTHMA_ADJRATE</th>\n",
       "      <th>ASTHMA_L95CI</th>\n",
       "      <th>ASTHMA_U95CI</th>\n",
       "      <th>ASTHMA_STATEADJRATE</th>\n",
       "      <th>ASTHMA_SL95CI</th>\n",
       "      <th>ASTHMA_SU95CI</th>\n",
       "      <th>TRACT_NAME</th>\n",
       "      <th>COUNTY_NAME</th>\n",
       "      <th>...</th>\n",
       "      <th>INFLUENZA_SL95CI</th>\n",
       "      <th>INFLUENZA_SU95CI</th>\n",
       "      <th>INFLUENZA_DISPLAY</th>\n",
       "      <th>POD_DEATH_ADJRATE</th>\n",
       "      <th>POD_DEATH_L95CI</th>\n",
       "      <th>POD_DEATH_U95CI</th>\n",
       "      <th>POD_DEATH_STATEADJRATE</th>\n",
       "      <th>POD_DEATH_STATEL95CI</th>\n",
       "      <th>POD_DEATH_STATEU95CI</th>\n",
       "      <th>POD_DISPLAY</th>\n",
       "    </tr>\n",
       "  </thead>\n",
       "  <tbody>\n",
       "    <tr>\n",
       "      <th>0</th>\n",
       "      <td>1</td>\n",
       "      <td>8043979000</td>\n",
       "      <td>478.25</td>\n",
       "      <td>344.32</td>\n",
       "      <td>612.18</td>\n",
       "      <td>619.91</td>\n",
       "      <td>617</td>\n",
       "      <td>622.82</td>\n",
       "      <td>Census Tract 9790, Fremont County, Colorado</td>\n",
       "      <td>FREMONT</td>\n",
       "      <td>...</td>\n",
       "      <td>54</td>\n",
       "      <td>55.75</td>\n",
       "      <td>Not Different Than State Average</td>\n",
       "      <td>NaN</td>\n",
       "      <td>NaN</td>\n",
       "      <td>NaN</td>\n",
       "      <td>9.25</td>\n",
       "      <td>8.89</td>\n",
       "      <td>9.6</td>\n",
       "      <td>No Events or Data Suppressed</td>\n",
       "    </tr>\n",
       "    <tr>\n",
       "      <th>1</th>\n",
       "      <td>2</td>\n",
       "      <td>8045951600</td>\n",
       "      <td>273.05</td>\n",
       "      <td>198.85</td>\n",
       "      <td>347.26</td>\n",
       "      <td>619.91</td>\n",
       "      <td>617</td>\n",
       "      <td>622.82</td>\n",
       "      <td>Census Tract 9516, Garfield County, Colorado</td>\n",
       "      <td>GARFIELD</td>\n",
       "      <td>...</td>\n",
       "      <td>54</td>\n",
       "      <td>55.75</td>\n",
       "      <td>Not Different Than State Average</td>\n",
       "      <td>0.0</td>\n",
       "      <td>0.0</td>\n",
       "      <td>0.0</td>\n",
       "      <td>9.25</td>\n",
       "      <td>8.89</td>\n",
       "      <td>9.6</td>\n",
       "      <td>No Events or Data Suppressed</td>\n",
       "    </tr>\n",
       "    <tr>\n",
       "      <th>2</th>\n",
       "      <td>3</td>\n",
       "      <td>8069002803</td>\n",
       "      <td>0.00</td>\n",
       "      <td>0.00</td>\n",
       "      <td>0.00</td>\n",
       "      <td>619.91</td>\n",
       "      <td>617</td>\n",
       "      <td>622.82</td>\n",
       "      <td>Census Tract 28.03, Larimer County, Colorado</td>\n",
       "      <td>LARIMER</td>\n",
       "      <td>...</td>\n",
       "      <td>54</td>\n",
       "      <td>55.75</td>\n",
       "      <td>No Events or Data Suppressed</td>\n",
       "      <td>0.0</td>\n",
       "      <td>0.0</td>\n",
       "      <td>0.0</td>\n",
       "      <td>9.25</td>\n",
       "      <td>8.89</td>\n",
       "      <td>9.6</td>\n",
       "      <td>No Events or Data Suppressed</td>\n",
       "    </tr>\n",
       "    <tr>\n",
       "      <th>3</th>\n",
       "      <td>4</td>\n",
       "      <td>8125963200</td>\n",
       "      <td>353.93</td>\n",
       "      <td>284.52</td>\n",
       "      <td>423.33</td>\n",
       "      <td>619.91</td>\n",
       "      <td>617</td>\n",
       "      <td>622.82</td>\n",
       "      <td>Census Tract 9632, Yuma County, Colorado</td>\n",
       "      <td>YUMA</td>\n",
       "      <td>...</td>\n",
       "      <td>54</td>\n",
       "      <td>55.75</td>\n",
       "      <td>Higher Than State Average</td>\n",
       "      <td>0.0</td>\n",
       "      <td>0.0</td>\n",
       "      <td>0.0</td>\n",
       "      <td>9.25</td>\n",
       "      <td>8.89</td>\n",
       "      <td>9.6</td>\n",
       "      <td>No Events or Data Suppressed</td>\n",
       "    </tr>\n",
       "    <tr>\n",
       "      <th>4</th>\n",
       "      <td>5</td>\n",
       "      <td>8069002401</td>\n",
       "      <td>542.50</td>\n",
       "      <td>244.83</td>\n",
       "      <td>840.18</td>\n",
       "      <td>619.91</td>\n",
       "      <td>617</td>\n",
       "      <td>622.82</td>\n",
       "      <td>Census Tract 24.01, Larimer County, Colorado</td>\n",
       "      <td>LARIMER</td>\n",
       "      <td>...</td>\n",
       "      <td>54</td>\n",
       "      <td>55.75</td>\n",
       "      <td>Not Different Than State Average</td>\n",
       "      <td>0.0</td>\n",
       "      <td>0.0</td>\n",
       "      <td>0.0</td>\n",
       "      <td>9.25</td>\n",
       "      <td>8.89</td>\n",
       "      <td>9.6</td>\n",
       "      <td>No Events or Data Suppressed</td>\n",
       "    </tr>\n",
       "  </tbody>\n",
       "</table>\n",
       "<p>5 rows × 67 columns</p>\n",
       "</div>"
      ],
      "text/plain": [
       "   OBJECTID  TRACT_FIPS  ASTHMA_ADJRATE  ASTHMA_L95CI  ASTHMA_U95CI  \\\n",
       "0         1  8043979000          478.25        344.32        612.18   \n",
       "1         2  8045951600          273.05        198.85        347.26   \n",
       "2         3  8069002803            0.00          0.00          0.00   \n",
       "3         4  8125963200          353.93        284.52        423.33   \n",
       "4         5  8069002401          542.50        244.83        840.18   \n",
       "\n",
       "   ASTHMA_STATEADJRATE  ASTHMA_SL95CI  ASTHMA_SU95CI  \\\n",
       "0               619.91            617         622.82   \n",
       "1               619.91            617         622.82   \n",
       "2               619.91            617         622.82   \n",
       "3               619.91            617         622.82   \n",
       "4               619.91            617         622.82   \n",
       "\n",
       "                                     TRACT_NAME COUNTY_NAME  ...  \\\n",
       "0   Census Tract 9790, Fremont County, Colorado     FREMONT  ...   \n",
       "1  Census Tract 9516, Garfield County, Colorado    GARFIELD  ...   \n",
       "2  Census Tract 28.03, Larimer County, Colorado     LARIMER  ...   \n",
       "3      Census Tract 9632, Yuma County, Colorado        YUMA  ...   \n",
       "4  Census Tract 24.01, Larimer County, Colorado     LARIMER  ...   \n",
       "\n",
       "  INFLUENZA_SL95CI  INFLUENZA_SU95CI                 INFLUENZA_DISPLAY  \\\n",
       "0               54             55.75  Not Different Than State Average   \n",
       "1               54             55.75  Not Different Than State Average   \n",
       "2               54             55.75      No Events or Data Suppressed   \n",
       "3               54             55.75         Higher Than State Average   \n",
       "4               54             55.75  Not Different Than State Average   \n",
       "\n",
       "   POD_DEATH_ADJRATE  POD_DEATH_L95CI  POD_DEATH_U95CI  \\\n",
       "0                NaN              NaN              NaN   \n",
       "1                0.0              0.0              0.0   \n",
       "2                0.0              0.0              0.0   \n",
       "3                0.0              0.0              0.0   \n",
       "4                0.0              0.0              0.0   \n",
       "\n",
       "   POD_DEATH_STATEADJRATE POD_DEATH_STATEL95CI  POD_DEATH_STATEU95CI  \\\n",
       "0                    9.25                 8.89                   9.6   \n",
       "1                    9.25                 8.89                   9.6   \n",
       "2                    9.25                 8.89                   9.6   \n",
       "3                    9.25                 8.89                   9.6   \n",
       "4                    9.25                 8.89                   9.6   \n",
       "\n",
       "                    POD_DISPLAY  \n",
       "0  No Events or Data Suppressed  \n",
       "1  No Events or Data Suppressed  \n",
       "2  No Events or Data Suppressed  \n",
       "3  No Events or Data Suppressed  \n",
       "4  No Events or Data Suppressed  \n",
       "\n",
       "[5 rows x 67 columns]"
      ]
     },
     "metadata": {},
     "output_type": "display_data"
    },
    {
     "data": {
      "text/html": [
       "<div>\n",
       "<style scoped>\n",
       "    .dataframe tbody tr th:only-of-type {\n",
       "        vertical-align: middle;\n",
       "    }\n",
       "\n",
       "    .dataframe tbody tr th {\n",
       "        vertical-align: top;\n",
       "    }\n",
       "\n",
       "    .dataframe thead th {\n",
       "        text-align: right;\n",
       "    }\n",
       "</style>\n",
       "<table border=\"1\" class=\"dataframe\">\n",
       "  <thead>\n",
       "    <tr style=\"text-align: right;\">\n",
       "      <th></th>\n",
       "      <th>X</th>\n",
       "      <th>Y</th>\n",
       "      <th>OBJECTID</th>\n",
       "      <th>Facility_ID</th>\n",
       "      <th>Facility_Name</th>\n",
       "      <th>Facility_Type_Code</th>\n",
       "      <th>Facility_Type</th>\n",
       "      <th>Map_Symbol</th>\n",
       "      <th>Facility_Type_Detail</th>\n",
       "      <th>Facility_Type_Abbreviation</th>\n",
       "      <th>Licensed_Beds_Total</th>\n",
       "      <th>Telephone</th>\n",
       "      <th>County</th>\n",
       "      <th>Address_Full</th>\n",
       "      <th>Latitude</th>\n",
       "      <th>Longitude</th>\n",
       "      <th>CDPHE_HFEMS_Licensed</th>\n",
       "      <th>Operating_Status</th>\n",
       "      <th>Date_Data_Updated</th>\n",
       "      <th>Source</th>\n",
       "    </tr>\n",
       "  </thead>\n",
       "  <tbody>\n",
       "    <tr>\n",
       "      <th>0</th>\n",
       "      <td>-104.868362</td>\n",
       "      <td>39.656151</td>\n",
       "      <td>1</td>\n",
       "      <td>04K461</td>\n",
       "      <td># 1 HOME CARE AGENCY CORPORATION</td>\n",
       "      <td>05E</td>\n",
       "      <td>All Other Factypes</td>\n",
       "      <td>Home Health</td>\n",
       "      <td>Home Care Agency-In Home Support Services (Med...</td>\n",
       "      <td>HCA-IHSS</td>\n",
       "      <td>0</td>\n",
       "      <td>303-306-0404</td>\n",
       "      <td>DENVER</td>\n",
       "      <td>10200 E GIRARD AVE BLDG A  STE 103, DENVER, CO...</td>\n",
       "      <td>39.656151</td>\n",
       "      <td>-104.868362</td>\n",
       "      <td>yes</td>\n",
       "      <td>ACTIVE</td>\n",
       "      <td>2024/12/04 07:00:00+00</td>\n",
       "      <td>CDPHE Health Facilities and Emergency Medical ...</td>\n",
       "    </tr>\n",
       "    <tr>\n",
       "      <th>1</th>\n",
       "      <td>-104.868362</td>\n",
       "      <td>39.656151</td>\n",
       "      <td>2</td>\n",
       "      <td>10C962</td>\n",
       "      <td># 1 HOME CARE AGENCY CORPORATION</td>\n",
       "      <td>05D</td>\n",
       "      <td>Home Care Agency</td>\n",
       "      <td>Home Health</td>\n",
       "      <td>Home Care Agency-Personal Care/Homemaker (Medi...</td>\n",
       "      <td>HCA-PHS</td>\n",
       "      <td>0</td>\n",
       "      <td>303-306-0404</td>\n",
       "      <td>DENVER</td>\n",
       "      <td>10200 E GIRARD AVE  BLDG A STE 103, DENVER, CO...</td>\n",
       "      <td>39.656151</td>\n",
       "      <td>-104.868362</td>\n",
       "      <td>yes</td>\n",
       "      <td>ACTIVE</td>\n",
       "      <td>2024/12/04 07:00:00+00</td>\n",
       "      <td>CDPHE Health Facilities and Emergency Medical ...</td>\n",
       "    </tr>\n",
       "    <tr>\n",
       "      <th>2</th>\n",
       "      <td>-104.896904</td>\n",
       "      <td>39.628658</td>\n",
       "      <td>3</td>\n",
       "      <td>04I8ZR</td>\n",
       "      <td>#1 NOOR HOME CARE</td>\n",
       "      <td>05E</td>\n",
       "      <td>All Other Factypes</td>\n",
       "      <td>Home Health</td>\n",
       "      <td>Home Care Agency-In Home Support Services (Med...</td>\n",
       "      <td>HCA-IHSS</td>\n",
       "      <td>0</td>\n",
       "      <td>NaN</td>\n",
       "      <td>DENVER</td>\n",
       "      <td>7900 E UNION AVE STE 1100, DENVER, CO 80237</td>\n",
       "      <td>39.628658</td>\n",
       "      <td>-104.896904</td>\n",
       "      <td>yes</td>\n",
       "      <td>ACTIVE</td>\n",
       "      <td>2024/12/04 07:00:00+00</td>\n",
       "      <td>CDPHE Health Facilities and Emergency Medical ...</td>\n",
       "    </tr>\n",
       "    <tr>\n",
       "      <th>3</th>\n",
       "      <td>-104.896904</td>\n",
       "      <td>39.628658</td>\n",
       "      <td>4</td>\n",
       "      <td>04YPBY</td>\n",
       "      <td>#1 NOOR HOME CARE</td>\n",
       "      <td>05D</td>\n",
       "      <td>Home Care Agency</td>\n",
       "      <td>Home Health</td>\n",
       "      <td>Home Care Agency-Personal Care/Homemaker (Medi...</td>\n",
       "      <td>HCA-PHS</td>\n",
       "      <td>0</td>\n",
       "      <td>720-324-3242</td>\n",
       "      <td>DENVER</td>\n",
       "      <td>7900 E UNION AVE STE 1100, DENVER, CO 80234</td>\n",
       "      <td>39.628658</td>\n",
       "      <td>-104.896904</td>\n",
       "      <td>yes</td>\n",
       "      <td>ACTIVE</td>\n",
       "      <td>2024/12/04 07:00:00+00</td>\n",
       "      <td>CDPHE Health Facilities and Emergency Medical ...</td>\n",
       "    </tr>\n",
       "    <tr>\n",
       "      <th>4</th>\n",
       "      <td>-104.896904</td>\n",
       "      <td>39.628658</td>\n",
       "      <td>5</td>\n",
       "      <td>0431O0</td>\n",
       "      <td>#1 NOOR HOME CARE</td>\n",
       "      <td>05A</td>\n",
       "      <td>Home Health Agency</td>\n",
       "      <td>Home Health</td>\n",
       "      <td>Home Health Agency (Cert Eligible)</td>\n",
       "      <td>HHA-LCE</td>\n",
       "      <td>0</td>\n",
       "      <td>720-324-3242</td>\n",
       "      <td>DENVER</td>\n",
       "      <td>7900 E UNION AVE STE 1100, DENVER, CO 80237</td>\n",
       "      <td>39.628658</td>\n",
       "      <td>-104.896904</td>\n",
       "      <td>yes</td>\n",
       "      <td>ACTIVE</td>\n",
       "      <td>2024/12/04 07:00:00+00</td>\n",
       "      <td>CDPHE Health Facilities and Emergency Medical ...</td>\n",
       "    </tr>\n",
       "  </tbody>\n",
       "</table>\n",
       "</div>"
      ],
      "text/plain": [
       "            X          Y  OBJECTID Facility_ID  \\\n",
       "0 -104.868362  39.656151         1      04K461   \n",
       "1 -104.868362  39.656151         2      10C962   \n",
       "2 -104.896904  39.628658         3      04I8ZR   \n",
       "3 -104.896904  39.628658         4      04YPBY   \n",
       "4 -104.896904  39.628658         5      0431O0   \n",
       "\n",
       "                      Facility_Name Facility_Type_Code       Facility_Type  \\\n",
       "0  # 1 HOME CARE AGENCY CORPORATION                05E  All Other Factypes   \n",
       "1  # 1 HOME CARE AGENCY CORPORATION                05D    Home Care Agency   \n",
       "2                 #1 NOOR HOME CARE                05E  All Other Factypes   \n",
       "3                 #1 NOOR HOME CARE                05D    Home Care Agency   \n",
       "4                 #1 NOOR HOME CARE                05A  Home Health Agency   \n",
       "\n",
       "    Map_Symbol                               Facility_Type_Detail  \\\n",
       "0  Home Health  Home Care Agency-In Home Support Services (Med...   \n",
       "1  Home Health  Home Care Agency-Personal Care/Homemaker (Medi...   \n",
       "2  Home Health  Home Care Agency-In Home Support Services (Med...   \n",
       "3  Home Health  Home Care Agency-Personal Care/Homemaker (Medi...   \n",
       "4  Home Health                 Home Health Agency (Cert Eligible)   \n",
       "\n",
       "  Facility_Type_Abbreviation  Licensed_Beds_Total     Telephone  County  \\\n",
       "0                   HCA-IHSS                    0  303-306-0404  DENVER   \n",
       "1                    HCA-PHS                    0  303-306-0404  DENVER   \n",
       "2                   HCA-IHSS                    0           NaN  DENVER   \n",
       "3                    HCA-PHS                    0  720-324-3242  DENVER   \n",
       "4                    HHA-LCE                    0  720-324-3242  DENVER   \n",
       "\n",
       "                                        Address_Full   Latitude   Longitude  \\\n",
       "0  10200 E GIRARD AVE BLDG A  STE 103, DENVER, CO...  39.656151 -104.868362   \n",
       "1  10200 E GIRARD AVE  BLDG A STE 103, DENVER, CO...  39.656151 -104.868362   \n",
       "2        7900 E UNION AVE STE 1100, DENVER, CO 80237  39.628658 -104.896904   \n",
       "3        7900 E UNION AVE STE 1100, DENVER, CO 80234  39.628658 -104.896904   \n",
       "4        7900 E UNION AVE STE 1100, DENVER, CO 80237  39.628658 -104.896904   \n",
       "\n",
       "  CDPHE_HFEMS_Licensed Operating_Status       Date_Data_Updated  \\\n",
       "0                  yes           ACTIVE  2024/12/04 07:00:00+00   \n",
       "1                  yes           ACTIVE  2024/12/04 07:00:00+00   \n",
       "2                  yes           ACTIVE  2024/12/04 07:00:00+00   \n",
       "3                  yes           ACTIVE  2024/12/04 07:00:00+00   \n",
       "4                  yes           ACTIVE  2024/12/04 07:00:00+00   \n",
       "\n",
       "                                              Source  \n",
       "0  CDPHE Health Facilities and Emergency Medical ...  \n",
       "1  CDPHE Health Facilities and Emergency Medical ...  \n",
       "2  CDPHE Health Facilities and Emergency Medical ...  \n",
       "3  CDPHE Health Facilities and Emergency Medical ...  \n",
       "4  CDPHE Health Facilities and Emergency Medical ...  "
      ]
     },
     "metadata": {},
     "output_type": "display_data"
    }
   ],
   "source": [
    "# File paths (GitHub raw URLs)\n",
    "indicators_path = \"https://raw.githubusercontent.com/tamyalouis/Project_3/main/cdphe_acs20172021_censustract_indicators_-3178988615017728164.csv\"\n",
    "health_outcomes_path = \"https://raw.githubusercontent.com/tamyalouis/Project_3/main/CDPHE_Composite_Selected_Health_Outcome_Dataset_(Census_Tract).csv\"\n",
    "health_facilities_path = \"https://raw.githubusercontent.com/tamyalouis/Project_3/main/CDPHE_Health_Facilities.csv\"\n",
    "\n",
    "# Load datasets\n",
    "indicators_df = pd.read_csv(indicators_path)\n",
    "health_outcomes_df = pd.read_csv(health_outcomes_path)\n",
    "health_facilities_df = pd.read_csv(health_facilities_path)\n",
    "\n",
    "# Display the first few rows of each\n",
    "display(indicators_df.head(), health_outcomes_df.head(), health_facilities_df.head())"
   ]
  },
  {
   "cell_type": "code",
   "execution_count": 152,
   "id": "23d9099e-1c53-4bb9-ad6a-6b42cfb312c4",
   "metadata": {},
   "outputs": [
    {
     "name": "stdout",
     "output_type": "stream",
     "text": [
      "Indicators Dataset:\n",
      "<class 'pandas.core.frame.DataFrame'>\n",
      "RangeIndex: 1447 entries, 0 to 1446\n",
      "Columns: 230 entries, OBJECTID_1 to GlobalID\n",
      "dtypes: float64(108), int64(117), object(5)\n",
      "memory usage: 2.5+ MB\n",
      "None\n",
      "\n",
      "Health Outcomes Dataset:\n",
      "<class 'pandas.core.frame.DataFrame'>\n",
      "RangeIndex: 1249 entries, 0 to 1248\n",
      "Data columns (total 67 columns):\n",
      " #   Column                  Non-Null Count  Dtype  \n",
      "---  ------                  --------------  -----  \n",
      " 0   OBJECTID                1249 non-null   int64  \n",
      " 1   TRACT_FIPS              1249 non-null   int64  \n",
      " 2   ASTHMA_ADJRATE          1243 non-null   float64\n",
      " 3   ASTHMA_L95CI            1243 non-null   float64\n",
      " 4   ASTHMA_U95CI            1243 non-null   float64\n",
      " 5   ASTHMA_STATEADJRATE     1249 non-null   float64\n",
      " 6   ASTHMA_SL95CI           1249 non-null   int64  \n",
      " 7   ASTHMA_SU95CI           1249 non-null   float64\n",
      " 8   TRACT_NAME              1249 non-null   object \n",
      " 9   COUNTY_NAME             1249 non-null   object \n",
      " 10  ASTHMA_DISPLAY          1249 non-null   object \n",
      " 11  DIABETES_ADJRATE        1241 non-null   float64\n",
      " 12  DIABETES_L95CI          1241 non-null   float64\n",
      " 13  DIABETES_U95CI          1241 non-null   float64\n",
      " 14  DIABETES_STATEADJRATE   1249 non-null   float64\n",
      " 15  DIABETES_SL95CI         1249 non-null   float64\n",
      " 16  DIABETES_SU95CI         1249 non-null   float64\n",
      " 17  DIABETES_DISPLAY        1249 non-null   object \n",
      " 18  HD_ADJRATE              1231 non-null   float64\n",
      " 19  HD_L95CI                1231 non-null   float64\n",
      " 20  HD_U95CI                1231 non-null   float64\n",
      " 21  HD_STATEADJRATE         1249 non-null   float64\n",
      " 22  HD_SL95CI               1249 non-null   float64\n",
      " 23  HD_SU95CI               1249 non-null   float64\n",
      " 24  HD_DISPLAY              1249 non-null   object \n",
      " 25  LWB_ADJRATE             1214 non-null   float64\n",
      " 26  LWB_L95CI               1214 non-null   float64\n",
      " 27  LWB_U95CI               1214 non-null   float64\n",
      " 28  LWB_STATEADJRATE        1249 non-null   float64\n",
      " 29  LWB_SL95CI              1249 non-null   float64\n",
      " 30  LWB_SU95CI              1249 non-null   float64\n",
      " 31  LWB_DISPLAY             1249 non-null   object \n",
      " 32  TF_ADJRATE              828 non-null    float64\n",
      " 33  TF_L95CI                828 non-null    float64\n",
      " 34  TF_U95CI                828 non-null    float64\n",
      " 35  TF_STATEADJRATE         1249 non-null   float64\n",
      " 36  TF_SL95CI               1249 non-null   float64\n",
      " 37  TF_SU95CI               1249 non-null   float64\n",
      " 38  TF_DISPLAY              1249 non-null   object \n",
      " 39  MVA_ADJRATE             705 non-null    float64\n",
      " 40  MVA_L95CI               705 non-null    float64\n",
      " 41  MVA_U95CI               705 non-null    float64\n",
      " 42  MVA_STATEADJRATE        1249 non-null   float64\n",
      " 43  MVA_SL95CI              1249 non-null   float64\n",
      " 44  MVA_SU95CI              1249 non-null   float64\n",
      " 45  MVA_DISPLAY             1249 non-null   object \n",
      " 46  SUICIDE_ADJRATE         962 non-null    float64\n",
      " 47  SUICIDE_L95CI           962 non-null    float64\n",
      " 48  SUICIDE_U95CI           962 non-null    float64\n",
      " 49  SUICIDE_STATEADJRATE    1249 non-null   float64\n",
      " 50  SUICIDE_SL95CI          1249 non-null   float64\n",
      " 51  SUICIDE_SU95CI          1249 non-null   float64\n",
      " 52  SUICIDE_DISPLAY         1249 non-null   object \n",
      " 53  INFLUENZA_ADJRATE       1196 non-null   float64\n",
      " 54  INFLUENZA_L95CI         1196 non-null   float64\n",
      " 55  INFLUENZA_U95CI         1196 non-null   float64\n",
      " 56  INFLUENZA_STATEADJRATE  1249 non-null   float64\n",
      " 57  INFLUENZA_SL95CI        1249 non-null   int64  \n",
      " 58  INFLUENZA_SU95CI        1249 non-null   float64\n",
      " 59  INFLUENZA_DISPLAY       1249 non-null   object \n",
      " 60  POD_DEATH_ADJRATE       727 non-null    float64\n",
      " 61  POD_DEATH_L95CI         727 non-null    float64\n",
      " 62  POD_DEATH_U95CI         727 non-null    float64\n",
      " 63  POD_DEATH_STATEADJRATE  1249 non-null   float64\n",
      " 64  POD_DEATH_STATEL95CI    1249 non-null   float64\n",
      " 65  POD_DEATH_STATEU95CI    1249 non-null   float64\n",
      " 66  POD_DISPLAY             1249 non-null   object \n",
      "dtypes: float64(52), int64(4), object(11)\n",
      "memory usage: 653.9+ KB\n",
      "None\n",
      "\n",
      "Health Facilities Dataset:\n",
      "<class 'pandas.core.frame.DataFrame'>\n",
      "RangeIndex: 4806 entries, 0 to 4805\n",
      "Data columns (total 20 columns):\n",
      " #   Column                      Non-Null Count  Dtype  \n",
      "---  ------                      --------------  -----  \n",
      " 0   X                           4806 non-null   float64\n",
      " 1   Y                           4806 non-null   float64\n",
      " 2   OBJECTID                    4806 non-null   int64  \n",
      " 3   Facility_ID                 4806 non-null   object \n",
      " 4   Facility_Name               4806 non-null   object \n",
      " 5   Facility_Type_Code          4806 non-null   object \n",
      " 6   Facility_Type               4806 non-null   object \n",
      " 7   Map_Symbol                  4806 non-null   object \n",
      " 8   Facility_Type_Detail        4806 non-null   object \n",
      " 9   Facility_Type_Abbreviation  4806 non-null   object \n",
      " 10  Licensed_Beds_Total         4806 non-null   int64  \n",
      " 11  Telephone                   4495 non-null   object \n",
      " 12  County                      4806 non-null   object \n",
      " 13  Address_Full                4806 non-null   object \n",
      " 14  Latitude                    4806 non-null   float64\n",
      " 15  Longitude                   4806 non-null   float64\n",
      " 16  CDPHE_HFEMS_Licensed        4806 non-null   object \n",
      " 17  Operating_Status            4806 non-null   object \n",
      " 18  Date_Data_Updated           4806 non-null   object \n",
      " 19  Source                      4806 non-null   object \n",
      "dtypes: float64(4), int64(2), object(14)\n",
      "memory usage: 751.1+ KB\n",
      "None\n"
     ]
    }
   ],
   "source": [
    "# Check basic info for each dataset\n",
    "print(\"Indicators Dataset:\")\n",
    "print(indicators_df.info())\n",
    "\n",
    "print(\"\\nHealth Outcomes Dataset:\")\n",
    "print(health_outcomes_df.info())\n",
    "\n",
    "print(\"\\nHealth Facilities Dataset:\")\n",
    "print(health_facilities_df.info())"
   ]
  },
  {
   "cell_type": "code",
   "execution_count": 153,
   "id": "ee4c9a5e-5ada-4da3-9149-e0f7fd93e78d",
   "metadata": {},
   "outputs": [
    {
     "name": "stdout",
     "output_type": "stream",
     "text": [
      "objectid_1                    0\n",
      "fips                          0\n",
      "full_fips_code                0\n",
      "tract_name                    0\n",
      "tract_fips                    0\n",
      "                             ..\n",
      "area_water_square_miles       0\n",
      "population_density_persqmi    0\n",
      "shape__area                   0\n",
      "shape__length                 0\n",
      "globalid                      0\n",
      "Length: 230, dtype: int64\n",
      "objectid                    0\n",
      "tract_fips                  0\n",
      "asthma_adjrate              6\n",
      "asthma_l95ci                6\n",
      "asthma_u95ci                6\n",
      "                         ... \n",
      "pod_death_u95ci           522\n",
      "pod_death_stateadjrate      0\n",
      "pod_death_statel95ci        0\n",
      "pod_death_stateu95ci        0\n",
      "pod_display                 0\n",
      "Length: 67, dtype: int64\n",
      "x                               0\n",
      "y                               0\n",
      "objectid                        0\n",
      "facility_id                     0\n",
      "facility_name                   0\n",
      "facility_type_code              0\n",
      "facility_type                   0\n",
      "map_symbol                      0\n",
      "facility_type_detail            0\n",
      "facility_type_abbreviation      0\n",
      "licensed_beds_total             0\n",
      "telephone                     311\n",
      "county                          0\n",
      "address_full                    0\n",
      "latitude                        0\n",
      "longitude                       0\n",
      "cdphe_hfems_licensed            0\n",
      "operating_status                0\n",
      "date_data_updated               0\n",
      "source                          0\n",
      "dtype: int64\n"
     ]
    }
   ],
   "source": [
    "# Standardize column names to lowercase\n",
    "indicators_df.columns = indicators_df.columns.str.lower()\n",
    "health_outcomes_df.columns = health_outcomes_df.columns.str.lower()\n",
    "health_facilities_df.columns = health_facilities_df.columns.str.lower()\n",
    "\n",
    "# Check for missing values\n",
    "print(indicators_df.isnull().sum())\n",
    "print(health_outcomes_df.isnull().sum())\n",
    "print(health_facilities_df.isnull().sum())\n"
   ]
  },
  {
   "cell_type": "code",
   "execution_count": 154,
   "id": "df4fd63d-f68e-4a45-99a9-8677edcff707",
   "metadata": {},
   "outputs": [],
   "source": [
    "filtered_df = health_facilities_df[health_facilities_df['facility_type'].str.contains('hospital', case=False, na=False)]"
   ]
  },
  {
   "cell_type": "code",
   "execution_count": 155,
   "id": "929873f4-599a-44a5-8a94-7d10be2c6dd3",
   "metadata": {},
   "outputs": [
    {
     "name": "stdout",
     "output_type": "stream",
     "text": [
      "              x          y  objectid facility_id             facility_name  \\\n",
      "309 -105.148026  39.950745       310      010316       ADVENTHEALTH AVISTA   \n",
      "310 -104.886055  39.403603       311      01L581  ADVENTHEALTH CASTLE ROCK   \n",
      "315 -104.988419  39.576485       316      010456    ADVENTHEALTH LITTLETON   \n",
      "316 -104.769936  39.549644       317      01J544       ADVENTHEALTH PARKER   \n",
      "317 -104.973557  39.670654       318      010424       ADVENTHEALTH PORTER   \n",
      "\n",
      "    facility_type_code facility_type map_symbol facility_type_detail  \\\n",
      "309                011      Hospital   Hospital  Short Term Hospital   \n",
      "310                011      Hospital   Hospital  Short Term Hospital   \n",
      "315                011      Hospital   Hospital  Short Term Hospital   \n",
      "316                011      Hospital   Hospital  Short Term Hospital   \n",
      "317                011      Hospital   Hospital  Short Term Hospital   \n",
      "\n",
      "    facility_type_abbreviation  licensed_beds_total     telephone    county  \\\n",
      "309                   HOSP-ACU                  114  303-673-1000   BOULDER   \n",
      "310                   HOSP-ACU                   90  720-455-5000   DOUGLAS   \n",
      "315                   HOSP-ACU                  231  303-730-8900  ARAPAHOE   \n",
      "316                   HOSP-ACU                  179  303-269-4000   DOUGLAS   \n",
      "317                   HOSP-ACU                  368  303-778-1955    DENVER   \n",
      "\n",
      "                                      address_full   latitude   longitude  \\\n",
      "309  100 HEALTH PARK DR, LOUISVILLE, CO 80027-9583  39.950745 -105.148026   \n",
      "310       2350 MEADOWS BLVD, CASTLE ROCK, CO 80109  39.403603 -104.886055   \n",
      "315      7700 S BROADWAY, LITTLETON, CO 80122-2602  39.576485 -104.988419   \n",
      "316   9395 CROWN CREST BLVD, PARKER, CO 80138-8573  39.549644 -104.769936   \n",
      "317       2525 S DOWNING ST, DENVER, CO 80210-5817  39.670654 -104.973557   \n",
      "\n",
      "    cdphe_hfems_licensed operating_status       date_data_updated  \\\n",
      "309                  yes           ACTIVE  2024/12/04 07:00:00+00   \n",
      "310                  yes           ACTIVE  2024/12/04 07:00:00+00   \n",
      "315                  yes           ACTIVE  2024/12/04 07:00:00+00   \n",
      "316                  yes           ACTIVE  2024/12/04 07:00:00+00   \n",
      "317                  yes           ACTIVE  2024/12/04 07:00:00+00   \n",
      "\n",
      "                                                source  \n",
      "309  CDPHE Health Facilities and Emergency Medical ...  \n",
      "310  CDPHE Health Facilities and Emergency Medical ...  \n",
      "315  CDPHE Health Facilities and Emergency Medical ...  \n",
      "316  CDPHE Health Facilities and Emergency Medical ...  \n",
      "317  CDPHE Health Facilities and Emergency Medical ...  \n"
     ]
    }
   ],
   "source": [
    "print(filtered_df.head())"
   ]
  },
  {
   "cell_type": "code",
   "execution_count": 156,
   "id": "e29d5e65-52e8-422a-b527-1c8523731719",
   "metadata": {},
   "outputs": [
    {
     "name": "stdout",
     "output_type": "stream",
     "text": [
      "   objectid_1        fips        full_fips_code  \\\n",
      "0           1  8023972600  1400000US08023972600   \n",
      "1           2  8029964600  1400000US08029964600   \n",
      "2           3  8053973100  1400000US08053973100   \n",
      "3           4  8069001602  1400000US08069001602   \n",
      "4           5  8069000600  1400000US08069000600   \n",
      "\n",
      "                                     tract_name  tract_fips state    county  \\\n",
      "0  Census Tract 9726, Costilla County, Colorado  8023972600    CO  COSTILLA   \n",
      "1     Census Tract 9646, Delta County, Colorado  8029964600    CO     DELTA   \n",
      "2  Census Tract 9731, Hinsdale County, Colorado  8053973100    CO  HINSDALE   \n",
      "3  Census Tract 16.02, Larimer County, Colorado  8069001602    CO   LARIMER   \n",
      "4      Census Tract 6, Larimer County, Colorado  8069000600    CO   LARIMER   \n",
      "\n",
      "   percent_thu_occupied_family_male_nopartner  \\\n",
      "0                                         2.5   \n",
      "1                                         0.5   \n",
      "2                                         0.0   \n",
      "3                                         1.1   \n",
      "4                                         0.0   \n",
      "\n",
      "   housing_thu_occupied_family_female_nopartner  \\\n",
      "0                                            84   \n",
      "1                                            63   \n",
      "2                                            40   \n",
      "3                                           112   \n",
      "4                                             0   \n",
      "\n",
      "   percent_thu_occupied_family_female_nopartner  ...  \\\n",
      "0                                          10.9  ...   \n",
      "1                                           3.6  ...   \n",
      "2                                           9.0  ...   \n",
      "3                                           5.2  ...   \n",
      "4                                           0.0  ...   \n",
      "\n",
      "   percent_ohu_built_1940_1949  percent_ohu_built_1939_earlier  \\\n",
      "0                          1.7                            11.0   \n",
      "1                          3.7                            23.6   \n",
      "2                          1.3                            12.4   \n",
      "3                          0.0                             0.0   \n",
      "4                          0.0                             1.0   \n",
      "\n",
      "   housing_poverty_median_household_income  \\\n",
      "0                                    43190   \n",
      "1                                    66738   \n",
      "2                                    45714   \n",
      "3                                    95962   \n",
      "4                                    22163   \n",
      "\n",
      "   housing_poverty_mean_household_income  area_land_square_miles  \\\n",
      "0                                  51915              600.270189   \n",
      "1                                  79550              257.527079   \n",
      "2                                  72248             1117.230335   \n",
      "3                                 112801                1.173036   \n",
      "4                                  25420                0.760141   \n",
      "\n",
      "   area_water_square_miles  population_density_persqmi  shape__area  \\\n",
      "0                 1.454154                    3.151914     0.158671   \n",
      "1                 0.449223                   14.417901     0.069457   \n",
      "2                 5.916892                    0.767971     0.297771   \n",
      "3                 0.003898                 4713.411169     0.000322   \n",
      "4                 0.000000                 9495.606546     0.000209   \n",
      "\n",
      "   shape__length                              globalid  \n",
      "0       1.998095  eb930f7c-3ea7-4e83-9b6c-7bb56a27242a  \n",
      "1       1.489627  87012fdb-7ccb-4db3-8d94-253d5ddd1247  \n",
      "2       2.824511  ac4c1eb3-3907-49be-af38-c087d9eb1824  \n",
      "3       0.071983  75d13d59-05fc-407e-9e66-f3e365a6b947  \n",
      "4       0.060119  9d53a264-c85b-4ffa-8f76-b92ee8cbdcf0  \n",
      "\n",
      "[5 rows x 230 columns]\n",
      "   objectid  tract_fips  asthma_adjrate  asthma_l95ci  asthma_u95ci  \\\n",
      "0         1  8043979000          478.25        344.32        612.18   \n",
      "1         2  8045951600          273.05        198.85        347.26   \n",
      "2         3  8069002803            0.00          0.00          0.00   \n",
      "3         4  8125963200          353.93        284.52        423.33   \n",
      "4         5  8069002401          542.50        244.83        840.18   \n",
      "\n",
      "   asthma_stateadjrate  asthma_sl95ci  asthma_su95ci  \\\n",
      "0               619.91            617         622.82   \n",
      "1               619.91            617         622.82   \n",
      "2               619.91            617         622.82   \n",
      "3               619.91            617         622.82   \n",
      "4               619.91            617         622.82   \n",
      "\n",
      "                                     tract_name county_name  ...  \\\n",
      "0   Census Tract 9790, Fremont County, Colorado     FREMONT  ...   \n",
      "1  Census Tract 9516, Garfield County, Colorado    GARFIELD  ...   \n",
      "2  Census Tract 28.03, Larimer County, Colorado     LARIMER  ...   \n",
      "3      Census Tract 9632, Yuma County, Colorado        YUMA  ...   \n",
      "4  Census Tract 24.01, Larimer County, Colorado     LARIMER  ...   \n",
      "\n",
      "  influenza_sl95ci  influenza_su95ci                 influenza_display  \\\n",
      "0               54             55.75  Not Different Than State Average   \n",
      "1               54             55.75  Not Different Than State Average   \n",
      "2               54             55.75      No Events or Data Suppressed   \n",
      "3               54             55.75         Higher Than State Average   \n",
      "4               54             55.75  Not Different Than State Average   \n",
      "\n",
      "   pod_death_adjrate  pod_death_l95ci  pod_death_u95ci  \\\n",
      "0                NaN              NaN              NaN   \n",
      "1                0.0              0.0              0.0   \n",
      "2                0.0              0.0              0.0   \n",
      "3                0.0              0.0              0.0   \n",
      "4                0.0              0.0              0.0   \n",
      "\n",
      "   pod_death_stateadjrate pod_death_statel95ci  pod_death_stateu95ci  \\\n",
      "0                    9.25                 8.89                   9.6   \n",
      "1                    9.25                 8.89                   9.6   \n",
      "2                    9.25                 8.89                   9.6   \n",
      "3                    9.25                 8.89                   9.6   \n",
      "4                    9.25                 8.89                   9.6   \n",
      "\n",
      "                    pod_display  \n",
      "0  No Events or Data Suppressed  \n",
      "1  No Events or Data Suppressed  \n",
      "2  No Events or Data Suppressed  \n",
      "3  No Events or Data Suppressed  \n",
      "4  No Events or Data Suppressed  \n",
      "\n",
      "[5 rows x 67 columns]\n",
      "            x          y  objectid facility_id  \\\n",
      "0 -104.868362  39.656151         1      04K461   \n",
      "1 -104.868362  39.656151         2      10C962   \n",
      "2 -104.896904  39.628658         3      04I8ZR   \n",
      "3 -104.896904  39.628658         4      04YPBY   \n",
      "4 -104.896904  39.628658         5      0431O0   \n",
      "\n",
      "                      facility_name facility_type_code       facility_type  \\\n",
      "0  # 1 HOME CARE AGENCY CORPORATION                05E  All Other Factypes   \n",
      "1  # 1 HOME CARE AGENCY CORPORATION                05D    Home Care Agency   \n",
      "2                 #1 NOOR HOME CARE                05E  All Other Factypes   \n",
      "3                 #1 NOOR HOME CARE                05D    Home Care Agency   \n",
      "4                 #1 NOOR HOME CARE                05A  Home Health Agency   \n",
      "\n",
      "    map_symbol                               facility_type_detail  \\\n",
      "0  Home Health  Home Care Agency-In Home Support Services (Med...   \n",
      "1  Home Health  Home Care Agency-Personal Care/Homemaker (Medi...   \n",
      "2  Home Health  Home Care Agency-In Home Support Services (Med...   \n",
      "3  Home Health  Home Care Agency-Personal Care/Homemaker (Medi...   \n",
      "4  Home Health                 Home Health Agency (Cert Eligible)   \n",
      "\n",
      "  facility_type_abbreviation  licensed_beds_total     telephone  county  \\\n",
      "0                   HCA-IHSS                    0  303-306-0404  DENVER   \n",
      "1                    HCA-PHS                    0  303-306-0404  DENVER   \n",
      "2                   HCA-IHSS                    0           NaN  DENVER   \n",
      "3                    HCA-PHS                    0  720-324-3242  DENVER   \n",
      "4                    HHA-LCE                    0  720-324-3242  DENVER   \n",
      "\n",
      "                                        address_full   latitude   longitude  \\\n",
      "0  10200 E GIRARD AVE BLDG A  STE 103, DENVER, CO...  39.656151 -104.868362   \n",
      "1  10200 E GIRARD AVE  BLDG A STE 103, DENVER, CO...  39.656151 -104.868362   \n",
      "2        7900 E UNION AVE STE 1100, DENVER, CO 80237  39.628658 -104.896904   \n",
      "3        7900 E UNION AVE STE 1100, DENVER, CO 80234  39.628658 -104.896904   \n",
      "4        7900 E UNION AVE STE 1100, DENVER, CO 80237  39.628658 -104.896904   \n",
      "\n",
      "  cdphe_hfems_licensed operating_status       date_data_updated  \\\n",
      "0                  yes           ACTIVE  2024/12/04 07:00:00+00   \n",
      "1                  yes           ACTIVE  2024/12/04 07:00:00+00   \n",
      "2                  yes           ACTIVE  2024/12/04 07:00:00+00   \n",
      "3                  yes           ACTIVE  2024/12/04 07:00:00+00   \n",
      "4                  yes           ACTIVE  2024/12/04 07:00:00+00   \n",
      "\n",
      "                                              source  \n",
      "0  CDPHE Health Facilities and Emergency Medical ...  \n",
      "1  CDPHE Health Facilities and Emergency Medical ...  \n",
      "2  CDPHE Health Facilities and Emergency Medical ...  \n",
      "3  CDPHE Health Facilities and Emergency Medical ...  \n",
      "4  CDPHE Health Facilities and Emergency Medical ...  \n",
      "<class 'pandas.core.frame.DataFrame'>\n",
      "RangeIndex: 1447 entries, 0 to 1446\n",
      "Columns: 230 entries, objectid_1 to globalid\n",
      "dtypes: float64(108), int64(117), object(5)\n",
      "memory usage: 2.5+ MB\n",
      "None\n",
      "<class 'pandas.core.frame.DataFrame'>\n",
      "RangeIndex: 1249 entries, 0 to 1248\n",
      "Data columns (total 67 columns):\n",
      " #   Column                  Non-Null Count  Dtype  \n",
      "---  ------                  --------------  -----  \n",
      " 0   objectid                1249 non-null   int64  \n",
      " 1   tract_fips              1249 non-null   int64  \n",
      " 2   asthma_adjrate          1243 non-null   float64\n",
      " 3   asthma_l95ci            1243 non-null   float64\n",
      " 4   asthma_u95ci            1243 non-null   float64\n",
      " 5   asthma_stateadjrate     1249 non-null   float64\n",
      " 6   asthma_sl95ci           1249 non-null   int64  \n",
      " 7   asthma_su95ci           1249 non-null   float64\n",
      " 8   tract_name              1249 non-null   object \n",
      " 9   county_name             1249 non-null   object \n",
      " 10  asthma_display          1249 non-null   object \n",
      " 11  diabetes_adjrate        1241 non-null   float64\n",
      " 12  diabetes_l95ci          1241 non-null   float64\n",
      " 13  diabetes_u95ci          1241 non-null   float64\n",
      " 14  diabetes_stateadjrate   1249 non-null   float64\n",
      " 15  diabetes_sl95ci         1249 non-null   float64\n",
      " 16  diabetes_su95ci         1249 non-null   float64\n",
      " 17  diabetes_display        1249 non-null   object \n",
      " 18  hd_adjrate              1231 non-null   float64\n",
      " 19  hd_l95ci                1231 non-null   float64\n",
      " 20  hd_u95ci                1231 non-null   float64\n",
      " 21  hd_stateadjrate         1249 non-null   float64\n",
      " 22  hd_sl95ci               1249 non-null   float64\n",
      " 23  hd_su95ci               1249 non-null   float64\n",
      " 24  hd_display              1249 non-null   object \n",
      " 25  lwb_adjrate             1214 non-null   float64\n",
      " 26  lwb_l95ci               1214 non-null   float64\n",
      " 27  lwb_u95ci               1214 non-null   float64\n",
      " 28  lwb_stateadjrate        1249 non-null   float64\n",
      " 29  lwb_sl95ci              1249 non-null   float64\n",
      " 30  lwb_su95ci              1249 non-null   float64\n",
      " 31  lwb_display             1249 non-null   object \n",
      " 32  tf_adjrate              828 non-null    float64\n",
      " 33  tf_l95ci                828 non-null    float64\n",
      " 34  tf_u95ci                828 non-null    float64\n",
      " 35  tf_stateadjrate         1249 non-null   float64\n",
      " 36  tf_sl95ci               1249 non-null   float64\n",
      " 37  tf_su95ci               1249 non-null   float64\n",
      " 38  tf_display              1249 non-null   object \n",
      " 39  mva_adjrate             705 non-null    float64\n",
      " 40  mva_l95ci               705 non-null    float64\n",
      " 41  mva_u95ci               705 non-null    float64\n",
      " 42  mva_stateadjrate        1249 non-null   float64\n",
      " 43  mva_sl95ci              1249 non-null   float64\n",
      " 44  mva_su95ci              1249 non-null   float64\n",
      " 45  mva_display             1249 non-null   object \n",
      " 46  suicide_adjrate         962 non-null    float64\n",
      " 47  suicide_l95ci           962 non-null    float64\n",
      " 48  suicide_u95ci           962 non-null    float64\n",
      " 49  suicide_stateadjrate    1249 non-null   float64\n",
      " 50  suicide_sl95ci          1249 non-null   float64\n",
      " 51  suicide_su95ci          1249 non-null   float64\n",
      " 52  suicide_display         1249 non-null   object \n",
      " 53  influenza_adjrate       1196 non-null   float64\n",
      " 54  influenza_l95ci         1196 non-null   float64\n",
      " 55  influenza_u95ci         1196 non-null   float64\n",
      " 56  influenza_stateadjrate  1249 non-null   float64\n",
      " 57  influenza_sl95ci        1249 non-null   int64  \n",
      " 58  influenza_su95ci        1249 non-null   float64\n",
      " 59  influenza_display       1249 non-null   object \n",
      " 60  pod_death_adjrate       727 non-null    float64\n",
      " 61  pod_death_l95ci         727 non-null    float64\n",
      " 62  pod_death_u95ci         727 non-null    float64\n",
      " 63  pod_death_stateadjrate  1249 non-null   float64\n",
      " 64  pod_death_statel95ci    1249 non-null   float64\n",
      " 65  pod_death_stateu95ci    1249 non-null   float64\n",
      " 66  pod_display             1249 non-null   object \n",
      "dtypes: float64(52), int64(4), object(11)\n",
      "memory usage: 653.9+ KB\n",
      "None\n",
      "<class 'pandas.core.frame.DataFrame'>\n",
      "RangeIndex: 4806 entries, 0 to 4805\n",
      "Data columns (total 20 columns):\n",
      " #   Column                      Non-Null Count  Dtype  \n",
      "---  ------                      --------------  -----  \n",
      " 0   x                           4806 non-null   float64\n",
      " 1   y                           4806 non-null   float64\n",
      " 2   objectid                    4806 non-null   int64  \n",
      " 3   facility_id                 4806 non-null   object \n",
      " 4   facility_name               4806 non-null   object \n",
      " 5   facility_type_code          4806 non-null   object \n",
      " 6   facility_type               4806 non-null   object \n",
      " 7   map_symbol                  4806 non-null   object \n",
      " 8   facility_type_detail        4806 non-null   object \n",
      " 9   facility_type_abbreviation  4806 non-null   object \n",
      " 10  licensed_beds_total         4806 non-null   int64  \n",
      " 11  telephone                   4495 non-null   object \n",
      " 12  county                      4806 non-null   object \n",
      " 13  address_full                4806 non-null   object \n",
      " 14  latitude                    4806 non-null   float64\n",
      " 15  longitude                   4806 non-null   float64\n",
      " 16  cdphe_hfems_licensed        4806 non-null   object \n",
      " 17  operating_status            4806 non-null   object \n",
      " 18  date_data_updated           4806 non-null   object \n",
      " 19  source                      4806 non-null   object \n",
      "dtypes: float64(4), int64(2), object(14)\n",
      "memory usage: 751.1+ KB\n",
      "None\n"
     ]
    }
   ],
   "source": [
    "# Display summary of each dataset\n",
    "print(indicators_df.head())\n",
    "print(health_outcomes_df.head())\n",
    "print(health_facilities_df.head())\n",
    "\n",
    "# Check column names and data types\n",
    "print(indicators_df.info())\n",
    "print(health_outcomes_df.info())\n",
    "print(health_facilities_df.info())"
   ]
  },
  {
   "cell_type": "code",
   "execution_count": 157,
   "id": "d25af773-2d88-49e9-98bd-bd981cf6bc45",
   "metadata": {},
   "outputs": [],
   "source": [
    "indicators_df.columns = indicators_df.columns.str.lower()\n",
    "health_outcomes_df.columns = health_outcomes_df.columns.str.lower()\n",
    "health_facilities_df.columns = health_facilities_df.columns.str.lower()"
   ]
  },
  {
   "cell_type": "code",
   "execution_count": 158,
   "id": "63f26113-f5ff-41c4-b816-5fb70aba5898",
   "metadata": {},
   "outputs": [
    {
     "name": "stdout",
     "output_type": "stream",
     "text": [
      "objectid_1                    0\n",
      "fips                          0\n",
      "full_fips_code                0\n",
      "tract_name                    0\n",
      "tract_fips                    0\n",
      "                             ..\n",
      "area_water_square_miles       0\n",
      "population_density_persqmi    0\n",
      "shape__area                   0\n",
      "shape__length                 0\n",
      "globalid                      0\n",
      "Length: 230, dtype: int64\n",
      "objectid                    0\n",
      "tract_fips                  0\n",
      "asthma_adjrate              6\n",
      "asthma_l95ci                6\n",
      "asthma_u95ci                6\n",
      "                         ... \n",
      "pod_death_u95ci           522\n",
      "pod_death_stateadjrate      0\n",
      "pod_death_statel95ci        0\n",
      "pod_death_stateu95ci        0\n",
      "pod_display                 0\n",
      "Length: 67, dtype: int64\n",
      "x                               0\n",
      "y                               0\n",
      "objectid                        0\n",
      "facility_id                     0\n",
      "facility_name                   0\n",
      "facility_type_code              0\n",
      "facility_type                   0\n",
      "map_symbol                      0\n",
      "facility_type_detail            0\n",
      "facility_type_abbreviation      0\n",
      "licensed_beds_total             0\n",
      "telephone                     311\n",
      "county                          0\n",
      "address_full                    0\n",
      "latitude                        0\n",
      "longitude                       0\n",
      "cdphe_hfems_licensed            0\n",
      "operating_status                0\n",
      "date_data_updated               0\n",
      "source                          0\n",
      "dtype: int64\n"
     ]
    }
   ],
   "source": [
    "# Check for missing values\n",
    "print(indicators_df.isnull().sum())\n",
    "print(health_outcomes_df.isnull().sum())\n",
    "print(health_facilities_df.isnull().sum())"
   ]
  },
  {
   "cell_type": "code",
   "execution_count": 159,
   "id": "c80d4237-0c89-4489-b6d7-dccda4078023",
   "metadata": {},
   "outputs": [
    {
     "name": "stdout",
     "output_type": "stream",
     "text": [
      "Indicators DataFrame Columns: Index(['objectid_1', 'fips', 'full_fips_code', 'tract_name', 'tract_fips',\n",
      "       'state', 'county', 'percent_thu_occupied_family_male_nopartner',\n",
      "       'housing_thu_occupied_family_female_nopartner',\n",
      "       'percent_thu_occupied_family_female_nopartner',\n",
      "       ...\n",
      "       'percent_ohu_built_1940_1949', 'percent_ohu_built_1939_earlier',\n",
      "       'housing_poverty_median_household_income',\n",
      "       'housing_poverty_mean_household_income', 'area_land_square_miles',\n",
      "       'area_water_square_miles', 'population_density_persqmi', 'shape__area',\n",
      "       'shape__length', 'globalid'],\n",
      "      dtype='object', length=230)\n",
      "Health Outcomes DataFrame Columns: Index(['objectid', 'tract_fips', 'asthma_adjrate', 'asthma_l95ci',\n",
      "       'asthma_u95ci', 'asthma_stateadjrate', 'asthma_sl95ci', 'asthma_su95ci',\n",
      "       'tract_name', 'county_name', 'asthma_display', 'diabetes_adjrate',\n",
      "       'diabetes_l95ci', 'diabetes_u95ci', 'diabetes_stateadjrate',\n",
      "       'diabetes_sl95ci', 'diabetes_su95ci', 'diabetes_display', 'hd_adjrate',\n",
      "       'hd_l95ci', 'hd_u95ci', 'hd_stateadjrate', 'hd_sl95ci', 'hd_su95ci',\n",
      "       'hd_display', 'lwb_adjrate', 'lwb_l95ci', 'lwb_u95ci',\n",
      "       'lwb_stateadjrate', 'lwb_sl95ci', 'lwb_su95ci', 'lwb_display',\n",
      "       'tf_adjrate', 'tf_l95ci', 'tf_u95ci', 'tf_stateadjrate', 'tf_sl95ci',\n",
      "       'tf_su95ci', 'tf_display', 'mva_adjrate', 'mva_l95ci', 'mva_u95ci',\n",
      "       'mva_stateadjrate', 'mva_sl95ci', 'mva_su95ci', 'mva_display',\n",
      "       'suicide_adjrate', 'suicide_l95ci', 'suicide_u95ci',\n",
      "       'suicide_stateadjrate', 'suicide_sl95ci', 'suicide_su95ci',\n",
      "       'suicide_display', 'influenza_adjrate', 'influenza_l95ci',\n",
      "       'influenza_u95ci', 'influenza_stateadjrate', 'influenza_sl95ci',\n",
      "       'influenza_su95ci', 'influenza_display', 'pod_death_adjrate',\n",
      "       'pod_death_l95ci', 'pod_death_u95ci', 'pod_death_stateadjrate',\n",
      "       'pod_death_statel95ci', 'pod_death_stateu95ci', 'pod_display'],\n",
      "      dtype='object')\n",
      "Health Facilities DataFrame Columns: Index(['x', 'y', 'objectid', 'facility_id', 'facility_name',\n",
      "       'facility_type_code', 'facility_type', 'map_symbol',\n",
      "       'facility_type_detail', 'facility_type_abbreviation',\n",
      "       'licensed_beds_total', 'telephone', 'county', 'address_full',\n",
      "       'latitude', 'longitude', 'cdphe_hfems_licensed', 'operating_status',\n",
      "       'date_data_updated', 'source'],\n",
      "      dtype='object')\n"
     ]
    }
   ],
   "source": [
    "print(\"Indicators DataFrame Columns:\", indicators_df.columns)\n",
    "print(\"Health Outcomes DataFrame Columns:\", health_outcomes_df.columns)\n",
    "print(\"Health Facilities DataFrame Columns:\", health_facilities_df.columns)"
   ]
  },
  {
   "cell_type": "code",
   "execution_count": 160,
   "id": "cd8ac7a6-d847-47f8-81b9-351c5104a381",
   "metadata": {},
   "outputs": [],
   "source": [
    "indicators_df.columns = indicators_df.columns.str.lower()\n",
    "health_outcomes_df.columns = health_outcomes_df.columns.str.lower()\n",
    "health_facilities_df.columns = health_facilities_df.columns.str.lower()"
   ]
  },
  {
   "cell_type": "code",
   "execution_count": 161,
   "id": "faf5de91-3df4-421d-9b1a-416e0e12ffde",
   "metadata": {},
   "outputs": [
    {
     "name": "stdout",
     "output_type": "stream",
     "text": [
      "Indicators contains 'county': True\n",
      "Health Outcomes contains 'county': False\n",
      "Health Facilities contains 'county': True\n"
     ]
    }
   ],
   "source": [
    "for df, name in zip([indicators_df, health_outcomes_df, health_facilities_df], \n",
    "                    [\"Indicators\", \"Health Outcomes\", \"Health Facilities\"]):\n",
    "    print(f\"{name} contains 'county':\", 'county' in df.columns)"
   ]
  },
  {
   "cell_type": "code",
   "execution_count": 162,
   "id": "21a497f1-b55e-4fb7-a1f3-c4323e437d61",
   "metadata": {},
   "outputs": [],
   "source": [
    "health_outcomes_df.rename(columns={\"county_name\": \"county\"}, inplace=True)"
   ]
  },
  {
   "cell_type": "code",
   "execution_count": 163,
   "id": "e4b2c263-566e-4a72-b465-78ab6e46c9ff",
   "metadata": {},
   "outputs": [
    {
     "name": "stdout",
     "output_type": "stream",
     "text": [
      "Indicators DataFrame shape: (1447, 230)\n",
      "Health Outcomes DataFrame shape: (1249, 67)\n",
      "Health Facilities DataFrame shape: (4806, 20)\n"
     ]
    }
   ],
   "source": [
    "print(\"Indicators DataFrame shape:\", indicators_df.shape)\n",
    "print(\"Health Outcomes DataFrame shape:\", health_outcomes_df.shape)\n",
    "print(\"Health Facilities DataFrame shape:\", health_facilities_df.shape)"
   ]
  },
  {
   "cell_type": "code",
   "execution_count": 164,
   "id": "ca255b8f-29b1-450b-9f8d-83da4a87b4ad",
   "metadata": {},
   "outputs": [],
   "source": [
    "indicators_df = indicators_df[[\"county\", \"population_total\", \"population_density_persqmi\"]]\n",
    "health_outcomes_df = health_outcomes_df[[\"county\", \"diabetes_adjrate\", \"hd_adjrate\"]]\n",
    "health_facilities_df = health_facilities_df[[\"county\", \"latitude\", \"longitude\", \"facility_type\"]]"
   ]
  },
  {
   "cell_type": "code",
   "execution_count": 165,
   "id": "1b781a97-30b2-46c8-9836-069bd10968b2",
   "metadata": {},
   "outputs": [],
   "source": [
    "indicators_df = indicators_df.drop_duplicates()\n",
    "health_outcomes_df = health_outcomes_df.drop_duplicates(subset=['county'])"
   ]
  },
  {
   "cell_type": "code",
   "execution_count": 166,
   "id": "4ec3be1c-3fad-4421-abf7-707b12d07981",
   "metadata": {},
   "outputs": [
    {
     "name": "stdout",
     "output_type": "stream",
     "text": [
      "Indicators data size: 1443\n",
      "Health outcomes data size: 64\n",
      "Health facilities data size: 4806\n"
     ]
    }
   ],
   "source": [
    "print(f\"Indicators data size: {len(indicators_df)}\")\n",
    "print(f\"Health outcomes data size: {len(health_outcomes_df)}\")\n",
    "print(f\"Health facilities data size: {len(health_facilities_df)}\")"
   ]
  },
  {
   "cell_type": "code",
   "execution_count": 167,
   "id": "6927b2cd-88bf-41e9-96f0-cf5cbaa2ddac",
   "metadata": {},
   "outputs": [
    {
     "name": "stdout",
     "output_type": "stream",
     "text": [
      "Missing values per column:\n",
      " county                        0\n",
      "population_total              0\n",
      "population_density_persqmi    0\n",
      "diabetes_adjrate              0\n",
      "hd_adjrate                    0\n",
      "latitude                      0\n",
      "longitude                     0\n",
      "facility_type                 0\n",
      "dtype: int64\n",
      "     county  population_total  population_density_persqmi  diabetes_adjrate  \\\n",
      "0  COSTILLA              1892                    3.151914           1404.62   \n",
      "1  COSTILLA              1892                    3.151914           1404.62   \n",
      "2  COSTILLA              1892                    3.151914           1404.62   \n",
      "3     DELTA              3713                   14.417901           1548.64   \n",
      "4     DELTA              3713                   14.417901           1548.64   \n",
      "\n",
      "   hd_adjrate   latitude   longitude              facility_type  \n",
      "0       61.16  37.199516 -105.426109         All Other Factypes  \n",
      "1       61.16  37.197281 -105.427406           Home Care Agency  \n",
      "2       61.16  37.046154 -105.521248         All Other Factypes  \n",
      "3      172.89  38.736549 -108.066833         All Other Factypes  \n",
      "4      172.89  38.743832 -108.070976  Assisted Living Residence  \n"
     ]
    }
   ],
   "source": [
    "# Merge Indicators and Health Outcomes\n",
    "merged_df = indicators_df.merge(health_outcomes_df, on=\"county\", how=\"left\")\n",
    "\n",
    "# Merge with Health Facilities\n",
    "merged_df = merged_df.merge(health_facilities_df, on=\"county\", how=\"left\")\n",
    "\n",
    "# Step 1: Handle Missing Values after merging\n",
    "merged_df.fillna(0, inplace=True)  # Fill missing numerical values with 0\n",
    "\n",
    "\n",
    "# Verify no missing values remain\n",
    "print(\"Missing values per column:\\n\", merged_df.isnull().sum())\n",
    "\n",
    "print(merged_df.head())"
   ]
  },
  {
   "cell_type": "code",
   "execution_count": 168,
   "id": "aaebe4e9-0071-4b2b-93a0-40b32e73b222",
   "metadata": {},
   "outputs": [
    {
     "name": "stdout",
     "output_type": "stream",
     "text": [
      "Missing values in merged_df:\n",
      "county                        0\n",
      "population_total              0\n",
      "population_density_persqmi    0\n",
      "diabetes_adjrate              0\n",
      "hd_adjrate                    0\n",
      "latitude                      0\n",
      "longitude                     0\n",
      "facility_type                 0\n",
      "dtype: int64\n",
      "\n",
      "DataFrame Info:\n",
      "<class 'pandas.core.frame.DataFrame'>\n",
      "RangeIndex: 566166 entries, 0 to 566165\n",
      "Data columns (total 8 columns):\n",
      " #   Column                      Non-Null Count   Dtype  \n",
      "---  ------                      --------------   -----  \n",
      " 0   county                      566166 non-null  object \n",
      " 1   population_total            566166 non-null  int64  \n",
      " 2   population_density_persqmi  566166 non-null  float64\n",
      " 3   diabetes_adjrate            566166 non-null  float64\n",
      " 4   hd_adjrate                  566166 non-null  float64\n",
      " 5   latitude                    566166 non-null  float64\n",
      " 6   longitude                   566166 non-null  float64\n",
      " 7   facility_type               566166 non-null  object \n",
      "dtypes: float64(5), int64(1), object(2)\n",
      "memory usage: 34.6+ MB\n",
      "None\n"
     ]
    }
   ],
   "source": [
    "# Check for missing values\n",
    "print(\"Missing values in merged_df:\")\n",
    "print(merged_df.isnull().sum())\n",
    "\n",
    "# Display DataFrame information\n",
    "print(\"\\nDataFrame Info:\")\n",
    "print(merged_df.info())"
   ]
  },
  {
   "cell_type": "code",
   "execution_count": 169,
   "id": "291048d1-ea7b-4804-a951-a2978460b6f0",
   "metadata": {},
   "outputs": [],
   "source": [
    "merged_df[\"diabetes_rate_per_100k\"] = (\n",
    "    merged_df[\"diabetes_adjrate\"] / merged_df[\"population_total\"] * 100000\n",
    ")\n",
    "merged_df[\"heart_disease_rate_per_100k\"] = (\n",
    "    merged_df[\"hd_adjrate\"] / merged_df[\"population_total\"] * 100000\n",
    ")"
   ]
  },
  {
   "cell_type": "code",
   "execution_count": 170,
   "id": "458b6330-ecd0-4109-a5d7-52a4f967d9bc",
   "metadata": {},
   "outputs": [],
   "source": [
    "merged_df.columns = merged_df.columns.str.lower().str.replace(' ', '_')"
   ]
  },
  {
   "cell_type": "code",
   "execution_count": 171,
   "id": "e7dd3e0f-c49e-4d3f-8805-28e6c0608921",
   "metadata": {},
   "outputs": [
    {
     "name": "stdout",
     "output_type": "stream",
     "text": [
      "density_category\n",
      "High      466768\n",
      "Low        51156\n",
      "Medium     46765\n",
      "Name: count, dtype: int64\n"
     ]
    }
   ],
   "source": [
    "merged_df['density_category'] = pd.cut(\n",
    "    merged_df['population_density_persqmi'],\n",
    "    bins=[0, 500, 1500, float('inf')],\n",
    "    labels=['Low', 'Medium', 'High']\n",
    ")\n",
    "print(merged_df['density_category'].value_counts())"
   ]
  },
  {
   "cell_type": "code",
   "execution_count": 172,
   "id": "da0bf94e-863b-4170-89af-b6ea008ee5f7",
   "metadata": {},
   "outputs": [
    {
     "name": "stdout",
     "output_type": "stream",
     "text": [
      "county                           object\n",
      "population_total                  int64\n",
      "population_density_persqmi      float64\n",
      "diabetes_adjrate                float64\n",
      "hd_adjrate                      float64\n",
      "latitude                        float64\n",
      "longitude                       float64\n",
      "facility_type                    object\n",
      "diabetes_rate_per_100k          float64\n",
      "heart_disease_rate_per_100k     float64\n",
      "density_category               category\n",
      "dtype: object\n"
     ]
    }
   ],
   "source": [
    "print(merged_df.dtypes)"
   ]
  },
  {
   "cell_type": "code",
   "execution_count": 173,
   "id": "bb4123a3-e4ec-411f-bb4e-d003b65ab0fd",
   "metadata": {},
   "outputs": [
    {
     "name": "stdout",
     "output_type": "stream",
     "text": [
      "Transformed data saved successfully.\n"
     ]
    }
   ],
   "source": [
    "merged_df.to_csv(\"transformed_health_data.csv\", index=False)\n",
    "print(\"Transformed data saved successfully.\")"
   ]
  },
  {
   "cell_type": "code",
   "execution_count": 174,
   "id": "a3b0cd2f-e29a-45d8-bed0-6c4abc50e174",
   "metadata": {},
   "outputs": [
    {
     "name": "stdout",
     "output_type": "stream",
     "text": [
      "Standardized column names:\n",
      " Index(['county', 'population_total', 'population_density_persqmi',\n",
      "       'diabetes_adjrate', 'hd_adjrate', 'latitude', 'longitude',\n",
      "       'facility_type', 'diabetes_rate_per_100k',\n",
      "       'heart_disease_rate_per_100k', 'density_category'],\n",
      "      dtype='object')\n"
     ]
    }
   ],
   "source": [
    "# Standardize column names\n",
    "merged_df.columns = merged_df.columns.str.lower().str.replace(' ', '_')\n",
    "\n",
    "# Confirm changes\n",
    "print(\"Standardized column names:\\n\", merged_df.columns)"
   ]
  },
  {
   "cell_type": "code",
   "execution_count": 175,
   "id": "873d128e-2a1c-4084-b112-5fad86129378",
   "metadata": {},
   "outputs": [
    {
     "name": "stdout",
     "output_type": "stream",
     "text": [
      "Density category distribution:\n",
      " density_category\n",
      "High      466768\n",
      "Low        51156\n",
      "Medium     46765\n",
      "Name: count, dtype: int64\n"
     ]
    }
   ],
   "source": [
    "# Categorize population density into Low, Medium, and High\n",
    "merged_df['density_category'] = pd.cut(\n",
    "    merged_df['population_density_persqmi'],\n",
    "    bins=[0, 500, 1500, float('inf')],\n",
    "    labels=['Low', 'Medium', 'High']\n",
    ")\n",
    "\n",
    "# Display category counts\n",
    "print(\"Density category distribution:\\n\", merged_df['density_category'].value_counts())"
   ]
  },
  {
   "cell_type": "code",
   "execution_count": 176,
   "id": "6a59d77c-e68b-4ec3-8228-315d244dbd45",
   "metadata": {},
   "outputs": [
    {
     "name": "stdout",
     "output_type": "stream",
     "text": [
      "Data types:\n",
      " county                           object\n",
      "population_total                  int64\n",
      "population_density_persqmi      float64\n",
      "diabetes_adjrate                float64\n",
      "hd_adjrate                      float64\n",
      "latitude                        float64\n",
      "longitude                       float64\n",
      "facility_type                    object\n",
      "diabetes_rate_per_100k          float64\n",
      "heart_disease_rate_per_100k     float64\n",
      "density_category               category\n",
      "dtype: object\n"
     ]
    }
   ],
   "source": [
    "print(\"Data types:\\n\", merged_df.dtypes)"
   ]
  },
  {
   "cell_type": "code",
   "execution_count": 177,
   "id": "30c62b1f-3d87-4aff-958b-771dc26dd0d6",
   "metadata": {},
   "outputs": [
    {
     "name": "stdout",
     "output_type": "stream",
     "text": [
      "Checking for duplicates: 101849\n"
     ]
    }
   ],
   "source": [
    "print(\"Checking for duplicates:\", merged_df.duplicated().sum())"
   ]
  },
  {
   "cell_type": "code",
   "execution_count": 178,
   "id": "ec7a8a48-ea5c-4a37-91b2-f16cf92f9e9a",
   "metadata": {},
   "outputs": [
    {
     "name": "stdout",
     "output_type": "stream",
     "text": [
      "Statistical summary:\n",
      "        population_total  population_density_persqmi  diabetes_adjrate  \\\n",
      "count     566166.000000               566166.000000     566166.000000   \n",
      "mean        4121.813233                 5204.048643       1838.840019   \n",
      "std         1680.770595                 4304.005545        880.518523   \n",
      "min            0.000000                    0.000000          0.000000   \n",
      "25%         2891.000000                 2442.590507       1250.530000   \n",
      "50%         3928.000000                 4631.502414       1318.290000   \n",
      "75%         5124.000000                 6884.007055       2682.390000   \n",
      "max        14012.000000                31537.120150       4858.330000   \n",
      "\n",
      "          hd_adjrate       latitude      longitude  diabetes_rate_per_100k  \\\n",
      "count  566166.000000  566166.000000  566166.000000            5.661280e+05   \n",
      "mean      137.586170      39.577598    -104.935133                     inf   \n",
      "std        84.855662       0.434733       0.462092                     NaN   \n",
      "min         0.000000       0.000000    -108.913986            0.000000e+00   \n",
      "25%       101.700000      39.583836    -104.992973            2.726843e+04   \n",
      "50%       129.020000      39.669270    -104.869034            4.470754e+04   \n",
      "75%       225.270000      39.738438    -104.810692            6.828895e+04   \n",
      "max       374.340000      40.993336       0.000000                     inf   \n",
      "\n",
      "       heart_disease_rate_per_100k  \n",
      "count                 5.661280e+05  \n",
      "mean                           inf  \n",
      "std                            NaN  \n",
      "min                   0.000000e+00  \n",
      "25%                   1.866398e+03  \n",
      "50%                   3.560155e+03  \n",
      "75%                   5.471703e+03  \n",
      "max                            inf  \n"
     ]
    }
   ],
   "source": [
    "print(\"Statistical summary:\\n\", merged_df.describe())"
   ]
  },
  {
   "cell_type": "code",
   "execution_count": 179,
   "id": "3c3a44e1-5f85-4392-8db9-2e0d35a47b0a",
   "metadata": {},
   "outputs": [
    {
     "name": "stdout",
     "output_type": "stream",
     "text": [
      "Transformed data saved successfully.\n"
     ]
    }
   ],
   "source": [
    "# Save transformed data to a CSV file\n",
    "merged_df.to_csv(\"transformed_health_data.csv\", index=False)\n",
    "\n",
    "print(\"Transformed data saved successfully.\")"
   ]
  },
  {
   "cell_type": "code",
   "execution_count": 180,
   "id": "7f0958cb-dcf2-4c05-94d5-1cbd6e697f9f",
   "metadata": {},
   "outputs": [
    {
     "data": {
      "image/png": "[encoded data removed]",
      "text/plain": [
       "<Figure size 1500x500 with 1 Axes>"
      ]
     },
     "metadata": {},
     "output_type": "display_data"
    }
   ],
   "source": [
    "import matplotlib.pyplot as plt\n",
    "\n",
    "merged_df.groupby(\"county\")[[\"diabetes_rate_per_100k\", \"heart_disease_rate_per_100k\"]].mean().plot(\n",
    "    kind=\"bar\", figsize=(15, 5)\n",
    ")\n",
    "plt.title(\"Hospitalization Rates by County\")\n",
    "plt.ylabel(\"Rate per 100k\")\n",
    "plt.show()"
   ]
  },
  {
   "cell_type": "code",
   "execution_count": 181,
   "id": "ee28f9c1-02b4-430f-b8a9-1e5d883f8b7c",
   "metadata": {},
   "outputs": [
    {
     "name": "stdout",
     "output_type": "stream",
     "text": [
      "Heat map saved as 'hospital_access_map.html'. Open in a browser to view.\n"
     ]
    }
   ],
   "source": [
    "import folium\n",
    "\n",
    "map_center = [39.5501, -105.7821]  # Center map on Colorado\n",
    "m = folium.Map(location=map_center, zoom_start=7)\n",
    "\n",
    "# Add facilities as points on the map\n",
    "for _, row in health_facilities_df.iterrows():\n",
    "    folium.CircleMarker(\n",
    "        location=[row[\"latitude\"], row[\"longitude\"]],\n",
    "        radius=5,\n",
    "        color=\"blue\",\n",
    "        popup=row[\"facility_type\"]\n",
    "    ).add_to(m)\n",
    "\n",
    "m.save(\"health_facility_map.html\")\n",
    "\n",
    "print(\"Heat map saved as 'hospital_access_map.html'. Open in a browser to view.\")"
   ]
  },
  {
   "cell_type": "code",
   "execution_count": 182,
   "id": "4f96186d-b735-4d91-b2a3-216c61688d0b",
   "metadata": {},
   "outputs": [
    {
     "data": {
      "image/png": "[encoded data removed]",
      "text/plain": [
       "<Figure size 1200x600 with 1 Axes>"
      ]
     },
     "metadata": {},
     "output_type": "display_data"
    }
   ],
   "source": [
    "# Count facilities by county\n",
    "facility_counts = merged_df['county'].value_counts()\n",
    "\n",
    "# Plot facility counts\n",
    "plt.figure(figsize=(12, 6))\n",
    "facility_counts.plot(kind='bar', color='skyblue')\n",
    "plt.title('Number of Healthcare Facilities by County')\n",
    "plt.xlabel('County')\n",
    "plt.ylabel('Number of Facilities')\n",
    "plt.xticks(rotation=90)\n",
    "plt.grid(axis='y')\n",
    "plt.show()"
   ]
  },
  {
   "cell_type": "code",
   "execution_count": 183,
   "id": "4c206953-dc73-40b1-9a1d-2a56d6e2e4d9",
   "metadata": {},
   "outputs": [
    {
     "name": "stdout",
     "output_type": "stream",
     "text": [
      "Data successfully loaded into the SQL database.\n"
     ]
    }
   ],
   "source": [
    "from sqlalchemy import create_engine\n",
    "\n",
    "engine = create_engine('sqlite:///health_data.db')\n",
    "merged_df.to_sql('health_data', con=engine, if_exists='replace', index=False)\n",
    "\n",
    "print(\"Data successfully loaded into the SQL database.\")"
   ]
  },
  {
   "cell_type": "code",
   "execution_count": 184,
   "id": "a57685ba-82ba-4505-b2db-f620425e8428",
   "metadata": {},
   "outputs": [
    {
     "name": "stdout",
     "output_type": "stream",
     "text": [
      "       population_total  population_density_persqmi  diabetes_adjrate  \\\n",
      "count     566166.000000               566166.000000     566166.000000   \n",
      "mean        4121.813233                 5204.048643       1838.840019   \n",
      "std         1680.770595                 4304.005545        880.518523   \n",
      "min            0.000000                    0.000000          0.000000   \n",
      "25%         2891.000000                 2442.590507       1250.530000   \n",
      "50%         3928.000000                 4631.502414       1318.290000   \n",
      "75%         5124.000000                 6884.007055       2682.390000   \n",
      "max        14012.000000                31537.120150       4858.330000   \n",
      "\n",
      "          hd_adjrate       latitude      longitude  diabetes_rate_per_100k  \\\n",
      "count  566166.000000  566166.000000  566166.000000            5.661280e+05   \n",
      "mean      137.586170      39.577598    -104.935133                     inf   \n",
      "std        84.855662       0.434733       0.462092                     NaN   \n",
      "min         0.000000       0.000000    -108.913986            0.000000e+00   \n",
      "25%       101.700000      39.583836    -104.992973            2.726843e+04   \n",
      "50%       129.020000      39.669270    -104.869034            4.470754e+04   \n",
      "75%       225.270000      39.738438    -104.810692            6.828895e+04   \n",
      "max       374.340000      40.993336       0.000000                     inf   \n",
      "\n",
      "       heart_disease_rate_per_100k  \n",
      "count                 5.661280e+05  \n",
      "mean                           inf  \n",
      "std                            NaN  \n",
      "min                   0.000000e+00  \n",
      "25%                   1.866398e+03  \n",
      "50%                   3.560155e+03  \n",
      "75%                   5.471703e+03  \n",
      "max                            inf  \n"
     ]
    }
   ],
   "source": [
    "print(merged_df.describe())"
   ]
  },
  {
   "cell_type": "code",
   "execution_count": 185,
   "id": "583b9907-ea93-4497-8e2a-eb958d9c0f0f",
   "metadata": {},
   "outputs": [],
   "source": [
    "default_latitude = 39.5501\n",
    "default_longitude = -105.7821\n",
    "\n",
    "m = folium.Map(location=[default_latitude, default_longitude], zoom_start=7)"
   ]
  },
  {
   "cell_type": "code",
   "execution_count": 186,
   "id": "ccfdbf24-7a57-4955-ad42-0fcf1904e51b",
   "metadata": {},
   "outputs": [],
   "source": [
    "import folium\n",
    "\n",
    "for _, row in health_facilities_df.iterrows():\n",
    "    folium.Marker(\n",
    "        location=[row[\"latitude\"], row[\"longitude\"]],\n",
    "        popup=f\"Facility: {row['facility_type']}\",\n",
    "        icon=folium.Icon(color=\"blue\", icon=\"info-sign\")\n",
    "    ).add_to(m)"
   ]
  },
  {
   "cell_type": "code",
   "execution_count": 188,
   "id": "d4f06943-fd7b-4920-ba9f-5f8841995442",
   "metadata": {},
   "outputs": [
    {
     "name": "stdout",
     "output_type": "stream",
     "text": [
      "    latitude   longitude\n",
      "0  39.656151 -104.868362\n",
      "1  39.656151 -104.868362\n",
      "2  39.628658 -104.896904\n",
      "3  39.628658 -104.896904\n",
      "4  39.628658 -104.896904\n"
     ]
    }
   ],
   "source": [
    "print(health_facilities_df[[\"latitude\", \"longitude\"]].head())"
   ]
  },
  {
   "cell_type": "code",
   "execution_count": 189,
   "id": "d284c33e-79cc-4951-92d2-b6a73ec22e13",
   "metadata": {},
   "outputs": [
    {
     "data": {
      "text/plain": [
       "<folium.plugins.heat_map.HeatMap at 0x1ac9b26aab0>"
      ]
     },
     "execution_count": 189,
     "metadata": {},
     "output_type": "execute_result"
    }
   ],
   "source": [
    "HeatMap(heat_data, radius=10, blur=15).add_to(m)"
   ]
  },
  {
   "cell_type": "code",
   "execution_count": 223,
   "id": "72249096-187f-4442-aec9-f2c6ec11dd18",
   "metadata": {},
   "outputs": [
    {
     "name": "stdout",
     "output_type": "stream",
     "text": [
      "Heat map created and saved as 'heatmap.html'.\n"
     ]
    }
   ],
   "source": [
    "import folium\n",
    "from folium.plugins import HeatMap\n",
    "import pandas as pd\n",
    "\n",
    "# Sample data (replace with your actual data)\n",
    "data = {\n",
    "    'latitude': [39.7392, 39.5501, 39.7046],\n",
    "    'longitude': [-104.9903, -105.7821, -104.9839]\n",
    "}\n",
    "health_facilities_df = pd.DataFrame(data)\n",
    "\n",
    "# Prepare heat map data\n",
    "heat_data = [[row[\"latitude\"], row[\"longitude\"]] for _, row in health_facilities_df.iterrows()]\n",
    "\n",
    "# Create the map\n",
    "m = folium.Map(location=[39.5501, -105.7821], zoom_start=7)\n",
    "\n",
    "# Add heat map\n",
    "HeatMap(heat_data, radius=10, blur=15).add_to(m)\n",
    "\n",
    "# Save the heatmap to a file\n",
    "output_path = \"heatmap.html\"\n",
    "m.save(output_path)\n",
    "\n",
    "print(f\"Heat map created and saved as '{output_path}'.\")"
   ]
  },
  {
   "cell_type": "code",
   "execution_count": 225,
   "id": "ffa3d8a4-dedd-4c97-af78-678f1484f20f",
   "metadata": {},
   "outputs": [
    {
     "data": {
      "text/plain": [
       "True"
      ]
     },
     "execution_count": 225,
     "metadata": {},
     "output_type": "execute_result"
    }
   ],
   "source": [
    "import webbrowser\n",
    "webbrowser.open(\"heatmap.html\")"
   ]
  },
  {
   "cell_type": "code",
   "execution_count": 191,
   "id": "5c14796b-3e7a-4291-8f81-ff9f4c532271",
   "metadata": {},
   "outputs": [
    {
     "data": {
      "text/plain": [
       "566166"
      ]
     },
     "execution_count": 191,
     "metadata": {},
     "output_type": "execute_result"
    }
   ],
   "source": [
    "merged_df.to_sql(\"health_data\", con=engine, if_exists=\"replace\", index=False)"
   ]
  },
  {
   "cell_type": "code",
   "execution_count": 192,
   "id": "72cb12e9-589f-4c4e-a028-53b7fefc6eb3",
   "metadata": {},
   "outputs": [
    {
     "name": "stdout",
     "output_type": "stream",
     "text": [
      "     county  population_total  population_density_persqmi  diabetes_adjrate  \\\n",
      "0  COSTILLA              1892                    3.151914           1404.62   \n",
      "1  COSTILLA              1892                    3.151914           1404.62   \n",
      "2  COSTILLA              1892                    3.151914           1404.62   \n",
      "3     DELTA              3713                   14.417901           1548.64   \n",
      "4     DELTA              3713                   14.417901           1548.64   \n",
      "\n",
      "   hd_adjrate   latitude   longitude              facility_type  \\\n",
      "0       61.16  37.199516 -105.426109         All Other Factypes   \n",
      "1       61.16  37.197281 -105.427406           Home Care Agency   \n",
      "2       61.16  37.046154 -105.521248         All Other Factypes   \n",
      "3      172.89  38.736549 -108.066833         All Other Factypes   \n",
      "4      172.89  38.743832 -108.070976  Assisted Living Residence   \n",
      "\n",
      "   diabetes_rate_per_100k  heart_disease_rate_per_100k density_category  \n",
      "0            74239.957717                   3232.55814              Low  \n",
      "1            74239.957717                   3232.55814              Low  \n",
      "2            74239.957717                   3232.55814              Low  \n",
      "3            41708.591435                   4656.34258              Low  \n",
      "4            41708.591435                   4656.34258              Low  \n"
     ]
    }
   ],
   "source": [
    "print(merged_df.head())  # Ensure it contains the expected data"
   ]
  },
  {
   "cell_type": "code",
   "execution_count": 193,
   "id": "47a22f80-c9b4-43d0-8361-2adabcb17d3c",
   "metadata": {},
   "outputs": [
    {
     "name": "stdout",
     "output_type": "stream",
     "text": [
      "Row count after writing: 566166\n"
     ]
    }
   ],
   "source": [
    "merged_df.to_sql(\"health_data\", con=engine, if_exists=\"replace\", index=False)\n",
    "new_data = pd.read_sql(\"SELECT COUNT(*) AS row_count FROM health_data\", con=engine)\n",
    "print(\"Row count after writing:\", new_data.iloc[0][\"row_count\"])"
   ]
  },
  {
   "cell_type": "code",
   "execution_count": 194,
   "id": "b4378002-a764-4e40-af85-d206f9d4f3b8",
   "metadata": {},
   "outputs": [
    {
     "name": "stdout",
     "output_type": "stream",
     "text": [
      "True\n"
     ]
    }
   ],
   "source": [
    "import os\n",
    "print(os.path.exists(\"healthcare_analysis.db\"))  # Check if file exists in the working directory"
   ]
  },
  {
   "cell_type": "code",
   "execution_count": 195,
   "id": "7d69994f-642e-4c7d-a0a4-c2da843dbcd1",
   "metadata": {},
   "outputs": [],
   "source": [
    "engine.dispose()  # Close existing connection\n",
    "engine = create_engine(\"sqlite:///healthcare_analysis.db\")"
   ]
  },
  {
   "cell_type": "code",
   "execution_count": 196,
   "id": "1b747d5c-a671-45fc-8bc5-416494d1f01d",
   "metadata": {},
   "outputs": [
    {
     "name": "stdout",
     "output_type": "stream",
     "text": [
      "Tables in the SQLite database:\n",
      "                name\n",
      "0         indicators\n",
      "1    health_outcomes\n",
      "2  health_facilities\n",
      "3        health_data\n",
      "4    health_analysis\n"
     ]
    }
   ],
   "source": [
    "from sqlalchemy import create_engine\n",
    "import pandas as pd\n",
    "\n",
    "# Connect to SQLite database\n",
    "engine = create_engine(\"sqlite:///healthcare_analysis.db\")\n",
    "\n",
    "# List all tables in the database\n",
    "query = \"SELECT name FROM sqlite_master WHERE type='table';\"\n",
    "tables = pd.read_sql(query, con=engine)\n",
    "\n",
    "print(\"Tables in the SQLite database:\")\n",
    "print(tables)"
   ]
  },
  {
   "cell_type": "code",
   "execution_count": 197,
   "id": "99615439-0c82-42ab-914f-d7594e436d3c",
   "metadata": {},
   "outputs": [
    {
     "name": "stdout",
     "output_type": "stream",
     "text": [
      "Tables in the SQLite database:\n",
      "                name\n",
      "0         indicators\n",
      "1    health_outcomes\n",
      "2  health_facilities\n",
      "3        health_data\n",
      "4    health_analysis\n"
     ]
    }
   ],
   "source": [
    "# Check tables created in the database\n",
    "query = \"SELECT name FROM sqlite_master WHERE type='table';\"\n",
    "tables = pd.read_sql(query, con=engine)\n",
    "\n",
    "print(\"Tables in the SQLite database:\")\n",
    "print(tables)"
   ]
  },
  {
   "cell_type": "code",
   "execution_count": 198,
   "id": "bc446061-cb1f-459f-9dbb-385b6c38f4ff",
   "metadata": {},
   "outputs": [
    {
     "name": "stdout",
     "output_type": "stream",
     "text": [
      "Table 'indicators' has 1447 records.\n",
      "Table 'health_outcomes' has 1249 records.\n",
      "Table 'health_facilities' has 4806 records.\n",
      "Table 'health_data' has 566166 records.\n",
      "Table 'health_analysis' has 566166 records.\n"
     ]
    }
   ],
   "source": [
    "# Check record counts in each table\n",
    "for table in tables['name']:\n",
    "    query = f\"SELECT COUNT(*) as row_count FROM {table};\"\n",
    "    count_data = pd.read_sql(query, con=engine)\n",
    "    print(f\"Table '{table}' has {count_data.iloc[0]['row_count']} records.\")"
   ]
  },
  {
   "cell_type": "code",
   "execution_count": 199,
   "id": "f7fb2c04-aa26-4705-b1d2-bcf4493c074d",
   "metadata": {},
   "outputs": [
    {
     "name": "stdout",
     "output_type": "stream",
     "text": [
      "Sample data from health_data:\n",
      "     county  population_total  diabetes_adjrate\n",
      "0  COSTILLA              1892           1404.62\n",
      "1  COSTILLA              1892           1404.62\n",
      "2  COSTILLA              1892           1404.62\n",
      "3     DELTA              3713           1548.64\n",
      "4     DELTA              3713           1548.64\n",
      "Sample data from health_facilities:\n",
      "   county       facility_type\n",
      "0  DENVER  All Other Factypes\n",
      "1  DENVER    Home Care Agency\n",
      "2  DENVER  All Other Factypes\n",
      "3  DENVER    Home Care Agency\n",
      "4  DENVER  Home Health Agency\n"
     ]
    }
   ],
   "source": [
    "# Sample data check for specific tables\n",
    "query_health = \"SELECT county, population_total, diabetes_adjrate FROM health_data LIMIT 5;\"\n",
    "health_sample = pd.read_sql(query_health, con=engine)\n",
    "print(\"Sample data from health_data:\")\n",
    "print(health_sample)\n",
    "\n",
    "query_facilities = \"SELECT county, facility_type FROM health_facilities LIMIT 5;\"\n",
    "facilities_sample = pd.read_sql(query_facilities, con=engine)\n",
    "print(\"Sample data from health_facilities:\")\n",
    "print(facilities_sample)"
   ]
  },
  {
   "cell_type": "code",
   "execution_count": 200,
   "id": "ca222000-9c27-4dd7-8be1-3aef693240bd",
   "metadata": {},
   "outputs": [
    {
     "name": "stdout",
     "output_type": "stream",
     "text": [
      "Tables created successfully.\n"
     ]
    }
   ],
   "source": [
    "import sqlite3\n",
    "\n",
    "# Connect to SQLite database\n",
    "conn = sqlite3.connect('health_data.db')\n",
    "cursor = conn.cursor()\n",
    "\n",
    "# Create health_data table\n",
    "cursor.execute('''\n",
    "    CREATE TABLE IF NOT EXISTS health_data (\n",
    "        id INTEGER PRIMARY KEY AUTOINCREMENT,\n",
    "        county TEXT,\n",
    "        population_total INTEGER,\n",
    "        diabetes_adjrate FLOAT,\n",
    "        heart_disease_rate FLOAT\n",
    "    );\n",
    "''')\n",
    "\n",
    "# Create facilities_data table\n",
    "cursor.execute('''\n",
    "    CREATE TABLE IF NOT EXISTS facilities_data (\n",
    "        id INTEGER PRIMARY KEY AUTOINCREMENT,\n",
    "        county TEXT,\n",
    "        facility_type TEXT,\n",
    "        latitude FLOAT,\n",
    "        longitude FLOAT\n",
    "    );\n",
    "''')\n",
    "\n",
    "conn.commit()\n",
    "conn.close()\n",
    "\n",
    "print(\"Tables created successfully.\")"
   ]
  },
  {
   "cell_type": "code",
   "execution_count": 201,
   "id": "836d6e10-35bc-4860-bc16-e290ee7750bc",
   "metadata": {},
   "outputs": [
    {
     "name": "stdout",
     "output_type": "stream",
     "text": [
      "Data inserted successfully.\n"
     ]
    }
   ],
   "source": [
    "import pandas as pd\n",
    "\n",
    "# Sample data (replace with actual cleaned DataFrame variables)\n",
    "health_df = pd.DataFrame({\n",
    "    'county': ['Denver', 'Boulder', 'El Paso'],\n",
    "    'population_total': [715522, 326196, 730395],\n",
    "    'diabetes_adjrate': [8.5, 7.2, 9.1],\n",
    "    'heart_disease_rate': [4.3, 3.8, 4.9]\n",
    "})\n",
    "\n",
    "facilities_df = pd.DataFrame({\n",
    "    'county': ['Denver', 'Boulder', 'El Paso'],\n",
    "    'facility_type': ['Hospital', 'Clinic', 'Urgent Care'],\n",
    "    'latitude': [39.7392, 40.0150, 38.8339],\n",
    "    'longitude': [-104.9903, -105.2705, -104.8214]\n",
    "})\n",
    "\n",
    "# Insert data into SQLite database\n",
    "conn = sqlite3.connect('health_data.db')\n",
    "\n",
    "health_df.to_sql('health_data', conn, if_exists='replace', index=False)\n",
    "facilities_df.to_sql('facilities_data', conn, if_exists='replace', index=False)\n",
    "\n",
    "conn.close()\n",
    "\n",
    "print(\"Data inserted successfully.\")"
   ]
  },
  {
   "cell_type": "code",
   "execution_count": 202,
   "id": "7a175ffa-b88f-4c35-9ac2-90da2c9d2805",
   "metadata": {},
   "outputs": [
    {
     "name": "stdout",
     "output_type": "stream",
     "text": [
      "Tables in the database: [('health_facilities',), ('indicators',), ('sqlite_sequence',), ('health_outcomes',), ('health_data',), ('facilities_data',)]\n",
      "Table 'health_facilities' contains 13485 records.\n",
      "Table 'indicators' contains 146 records.\n",
      "Table 'sqlite_sequence' contains 0 records.\n",
      "Table 'health_outcomes' contains 64 records.\n",
      "Table 'health_data' contains 3 records.\n",
      "Table 'facilities_data' contains 3 records.\n"
     ]
    }
   ],
   "source": [
    "# Connect to database and check tables\n",
    "conn = sqlite3.connect('health_data.db')\n",
    "cursor = conn.cursor()\n",
    "\n",
    "# List tables in the database\n",
    "cursor.execute(\"SELECT name FROM sqlite_master WHERE type='table';\")\n",
    "tables = cursor.fetchall()\n",
    "print(\"Tables in the database:\", tables)\n",
    "\n",
    "# Check record counts in each table\n",
    "for table in tables:\n",
    "    query = f\"SELECT COUNT(*) FROM {table[0]}\"\n",
    "    cursor.execute(query)\n",
    "    count = cursor.fetchone()[0]\n",
    "    print(f\"Table '{table[0]}' contains {count} records.\")\n",
    "\n",
    "conn.close()"
   ]
  },
  {
   "cell_type": "code",
   "execution_count": 203,
   "id": "62f3dd98-6bfa-4a3c-beea-f2a00dc3e9b2",
   "metadata": {},
   "outputs": [
    {
     "name": "stdout",
     "output_type": "stream",
     "text": [
      "       county  diabetes_adjrate  hd_adjrate\n",
      "0     FREMONT            712.87      145.38\n",
      "1    GARFIELD            995.36       43.53\n",
      "2     LARIMER              0.00        0.00\n",
      "3        YUMA           1490.09       92.15\n",
      "6  RIO BLANCO           1672.46      155.19\n"
     ]
    }
   ],
   "source": [
    "print(health_outcomes_df.head())  # Ensure the dataframe contains data"
   ]
  },
  {
   "cell_type": "code",
   "execution_count": 204,
   "id": "d534fb79-1145-4aa9-9ab2-af89319ffb28",
   "metadata": {},
   "outputs": [],
   "source": [
    "conn = sqlite3.connect('health_data.db')\n",
    "health_outcomes_df.to_sql('health_outcomes', conn, if_exists='replace', index=False)\n",
    "conn.close()"
   ]
  },
  {
   "cell_type": "code",
   "execution_count": 205,
   "id": "45fb0db5-45ae-40a2-9629-ebb947b4653e",
   "metadata": {},
   "outputs": [
    {
     "name": "stdout",
     "output_type": "stream",
     "text": [
      "Number of records in health_outcomes table: 64\n"
     ]
    }
   ],
   "source": [
    "conn = sqlite3.connect('health_data.db')\n",
    "query = \"SELECT COUNT(*) FROM health_outcomes;\"\n",
    "count_health_outcomes = pd.read_sql(query, conn)\n",
    "print(\"Number of records in health_outcomes table:\", count_health_outcomes.iloc[0, 0])\n",
    "conn.close()"
   ]
  },
  {
   "cell_type": "code",
   "execution_count": 206,
   "id": "2f264631-4f3b-4e25-bb1f-69844bcfc4e9",
   "metadata": {},
   "outputs": [
    {
     "name": "stdout",
     "output_type": "stream",
     "text": [
      "Sample data from health_data:\n",
      "     county  population_total  diabetes_adjrate  heart_disease_rate\n",
      "0   Denver            715522               8.5                 4.3\n",
      "1  Boulder            326196               7.2                 3.8\n",
      "2  El Paso            730395               9.1                 4.9\n",
      "Sample data from facilities_data:\n",
      "     county facility_type  latitude  longitude\n",
      "0   Denver      Hospital   39.7392  -104.9903\n",
      "1  Boulder        Clinic   40.0150  -105.2705\n",
      "2  El Paso   Urgent Care   38.8339  -104.8214\n"
     ]
    }
   ],
   "source": [
    "conn = sqlite3.connect('health_data.db')\n",
    "\n",
    "# Query health_data table\n",
    "query_health = \"SELECT * FROM health_data LIMIT 5;\"\n",
    "df_health = pd.read_sql(query_health, conn)\n",
    "print(\"Sample data from health_data:\\n\", df_health)\n",
    "\n",
    "# Query facilities_data table\n",
    "query_facilities = \"SELECT * FROM facilities_data LIMIT 5;\"\n",
    "df_facilities = pd.read_sql(query_facilities, conn)\n",
    "print(\"Sample data from facilities_data:\\n\", df_facilities)\n",
    "\n",
    "conn.close()"
   ]
  },
  {
   "cell_type": "code",
   "execution_count": 207,
   "id": "7eaa995a-7e61-4430-a5ed-7113c3ad4036",
   "metadata": {},
   "outputs": [],
   "source": [
    "conn = sqlite3.connect('health_data.db')\n",
    "cursor = conn.cursor()\n",
    "cursor.execute(\"CREATE INDEX IF NOT EXISTS idx_county ON health_data(county);\")\n",
    "conn.commit()\n",
    "conn.close()"
   ]
  },
  {
   "cell_type": "code",
   "execution_count": 208,
   "id": "3d23b587-5ba4-4d7c-89ce-7477eeb4a0c8",
   "metadata": {},
   "outputs": [
    {
     "name": "stdout",
     "output_type": "stream",
     "text": [
      "Sample data from the health_data table:\n",
      "     county  population_total  population_density_persqmi  diabetes_adjrate  \\\n",
      "0  COSTILLA              1892                    3.151914           1404.62   \n",
      "1  COSTILLA              1892                    3.151914           1404.62   \n",
      "2  COSTILLA              1892                    3.151914           1404.62   \n",
      "3     DELTA              3713                   14.417901           1548.64   \n",
      "4     DELTA              3713                   14.417901           1548.64   \n",
      "\n",
      "   hd_adjrate   latitude   longitude              facility_type  \\\n",
      "0       61.16  37.199516 -105.426109         All Other Factypes   \n",
      "1       61.16  37.197281 -105.427406           Home Care Agency   \n",
      "2       61.16  37.046154 -105.521248         All Other Factypes   \n",
      "3      172.89  38.736549 -108.066833         All Other Factypes   \n",
      "4      172.89  38.743832 -108.070976  Assisted Living Residence   \n",
      "\n",
      "   diabetes_rate_per_100k  heart_disease_rate_per_100k  \n",
      "0            74239.957717                   3232.55814  \n",
      "1            74239.957717                   3232.55814  \n",
      "2            74239.957717                   3232.55814  \n",
      "3            41708.591435                   4656.34258  \n",
      "4            41708.591435                   4656.34258  \n"
     ]
    }
   ],
   "source": [
    "# Query the first 5 rows of the table\n",
    "query = \"SELECT * FROM health_data LIMIT 5;\"\n",
    "sample_data = pd.read_sql(query, con=engine)\n",
    "\n",
    "print(\"Sample data from the health_data table:\")\n",
    "print(sample_data)"
   ]
  },
  {
   "cell_type": "code",
   "execution_count": 209,
   "id": "8e8abd13-8281-49c5-a479-23fa2a81794b",
   "metadata": {},
   "outputs": [
    {
     "name": "stdout",
     "output_type": "stream",
     "text": [
      "Total number of rows in the health_data table: 566166\n"
     ]
    }
   ],
   "source": [
    "query = \"SELECT COUNT(*) as row_count FROM health_data;\"\n",
    "row_count = pd.read_sql(query, con=engine)\n",
    "\n",
    "print(\"Total number of rows in the health_data table:\", row_count.iloc[0][\"row_count\"])\n"
   ]
  },
  {
   "cell_type": "markdown",
   "id": "e3b551eb-ad3a-45e7-a71e-f7bea792ebbb",
   "metadata": {},
   "source": [
    "# Database Queries and Analysis\n",
    "\n",
    "In this section, we will run SQL queries to analyze the stored healthcare data in the SQLite database.\n",
    "\n",
    "We will explore the following:\n",
    "1. Checking available tables in the database.\n",
    "2. Retrieving sample data.\n",
    "3. Analyzing healthcare facility distribution.\n",
    "4. Visualizing query results."
   ]
  },
  {
   "cell_type": "code",
   "execution_count": 212,
   "id": "d6220828-eecd-4d00-946c-d8fdd1e9011b",
   "metadata": {},
   "outputs": [
    {
     "name": "stdout",
     "output_type": "stream",
     "text": [
      "Tables in the database: [('health_facilities',), ('indicators',), ('sqlite_sequence',), ('health_data',), ('facilities_data',), ('health_outcomes',)]\n"
     ]
    }
   ],
   "source": [
    "import sqlite3\n",
    "\n",
    "# Connect to the SQLite database\n",
    "conn = sqlite3.connect('health_data.db')\n",
    "\n",
    "# Get list of tables in the database\n",
    "cursor = conn.cursor()\n",
    "cursor.execute(\"SELECT name FROM sqlite_master WHERE type='table';\")\n",
    "print(\"Tables in the database:\", cursor.fetchall())\n",
    "\n",
    "conn.close()\n"
   ]
  },
  {
   "cell_type": "markdown",
   "id": "a6554c60-449f-4c98-88af-32ea27d0d98e",
   "metadata": {},
   "source": [
    "## Query: Count Healthcare Facilities by County\n",
    "\n",
    "This query counts the total number of healthcare facilities available in each county."
   ]
  },
  {
   "cell_type": "code",
   "execution_count": 214,
   "id": "4d56520e-a64d-4f0e-b335-f8f1e1b22788",
   "metadata": {},
   "outputs": [
    {
     "name": "stdout",
     "output_type": "stream",
     "text": [
      "    county  avg_diabetes_rate\n",
      "0  El Paso                9.1\n",
      "1   Denver                8.5\n",
      "2  Boulder                7.2\n"
     ]
    }
   ],
   "source": [
    "conn = sqlite3.connect('health_data.db')\n",
    "\n",
    "query = \"\"\"\n",
    "SELECT county, AVG(diabetes_adjrate) AS avg_diabetes_rate\n",
    "FROM health_data\n",
    "GROUP BY county\n",
    "ORDER BY avg_diabetes_rate DESC;\n",
    "\"\"\"\n",
    "df_diabetes = pd.read_sql_query(query, conn)\n",
    "\n",
    "print(df_diabetes.head())\n",
    "\n",
    "conn.close()"
   ]
  },
  {
   "cell_type": "markdown",
   "id": "73e0a5db-3824-4ee4-916d-8b979980b45a",
   "metadata": {},
   "source": [
    "## Visualization: Healthcare Facilities by County\n",
    "\n",
    "We will create a bar chart to visualize the number of healthcare facilities across counties."
   ]
  },
  {
   "cell_type": "code",
   "execution_count": 216,
   "id": "c798c257-5b75-4c3f-8059-358c9e05bf9a",
   "metadata": {},
   "outputs": [
    {
     "ename": "NameError",
     "evalue": "name 'df_facility_count' is not defined",
     "output_type": "error",
     "traceback": [
      "\u001b[1;31m---------------------------------------------------------------------------\u001b[0m",
      "\u001b[1;31mNameError\u001b[0m                                 Traceback (most recent call last)",
      "Cell \u001b[1;32mIn[216], line 5\u001b[0m\n\u001b[0;32m      3\u001b[0m \u001b[38;5;66;03m# Plot the number of facilities per county\u001b[39;00m\n\u001b[0;32m      4\u001b[0m plt\u001b[38;5;241m.\u001b[39mfigure(figsize\u001b[38;5;241m=\u001b[39m(\u001b[38;5;241m12\u001b[39m, \u001b[38;5;241m6\u001b[39m))\n\u001b[1;32m----> 5\u001b[0m plt\u001b[38;5;241m.\u001b[39mbar(df_facility_count[\u001b[38;5;124m'\u001b[39m\u001b[38;5;124mcounty\u001b[39m\u001b[38;5;124m'\u001b[39m], df_facility_count[\u001b[38;5;124m'\u001b[39m\u001b[38;5;124mfacility_count\u001b[39m\u001b[38;5;124m'\u001b[39m], color\u001b[38;5;241m=\u001b[39m\u001b[38;5;124m'\u001b[39m\u001b[38;5;124mskyblue\u001b[39m\u001b[38;5;124m'\u001b[39m)\n\u001b[0;32m      6\u001b[0m plt\u001b[38;5;241m.\u001b[39mtitle(\u001b[38;5;124m'\u001b[39m\u001b[38;5;124mNumber of Healthcare Facilities by County\u001b[39m\u001b[38;5;124m'\u001b[39m)\n\u001b[0;32m      7\u001b[0m plt\u001b[38;5;241m.\u001b[39mxlabel(\u001b[38;5;124m'\u001b[39m\u001b[38;5;124mCounty\u001b[39m\u001b[38;5;124m'\u001b[39m)\n",
      "\u001b[1;31mNameError\u001b[0m: name 'df_facility_count' is not defined"
     ]
    },
    {
     "data": {
      "text/plain": [
       "<Figure size 1200x600 with 0 Axes>"
      ]
     },
     "metadata": {},
     "output_type": "display_data"
    }
   ],
   "source": [
    "import matplotlib.pyplot as plt\n",
    "\n",
    "# Plot the number of facilities per county\n",
    "plt.figure(figsize=(12, 6))\n",
    "plt.bar(df_facility_count['county'], df_facility_count['facility_count'], color='skyblue')\n",
    "plt.title('Number of Healthcare Facilities by County')\n",
    "plt.xlabel('County')\n",
    "plt.ylabel('Facility Count')\n",
    "plt.xticks(rotation=90)\n",
    "plt.grid(axis='y')\n",
    "plt.show()"
   ]
  },
  {
   "cell_type": "markdown",
   "id": "2fbc2036-a60d-4649-8a23-30dc1ce6676a",
   "metadata": {},
   "source": [
    "## Summary of Findings\n",
    "\n",
    "- The counties with the highest number of healthcare facilities are located in urban areas.\n",
    "- Rural counties have significantly fewer healthcare facilities, indicating potential gaps in healthcare access.\n",
    "- The average diabetes hospitalization rate is higher in counties with lower facility counts."
   ]
  },
  {
   "cell_type": "code",
   "execution_count": null,
   "id": "26ae591c-c942-4a44-b0ee-adedb7e72b0a",
   "metadata": {},
   "outputs": [],
   "source": []
  }
 ],
 "metadata": {
  "kernelspec": {
   "display_name": "Python 3 (ipykernel)",
   "language": "python",
   "name": "python3"
  },
  "language_info": {
   "codemirror_mode": {
    "name": "ipython",
    "version": 3
   },
   "file_extension": ".py",
   "mimetype": "text/x-python",
   "name": "python",
   "nbconvert_exporter": "python",
   "pygments_lexer": "ipython3",
   "version": "3.12.3"
  }
 },
 "nbformat": 4,
 "nbformat_minor": 5
}
